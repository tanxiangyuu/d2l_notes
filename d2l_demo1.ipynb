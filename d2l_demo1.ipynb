{
 "cells": [
  {
   "attachments": {},
   "cell_type": "markdown",
   "id": "0c4a1201",
   "metadata": {},
   "source": [
    "# 第一章 数据"
   ]
  },
  {
   "attachments": {},
   "cell_type": "markdown",
   "id": "8bc507de",
   "metadata": {},
   "source": [
    "+ ## 数据操作"
   ]
  },
  {
   "cell_type": "code",
   "execution_count": 5,
   "id": "9f80dc99",
   "metadata": {},
   "outputs": [
    {
     "data": {
      "text/plain": [
       "tensor([ 0,  1,  2,  3,  4,  5,  6,  7,  8,  9, 10, 11])"
      ]
     },
     "execution_count": 5,
     "metadata": {},
     "output_type": "execute_result"
    }
   ],
   "source": [
    "import torch\n",
    "\n",
    "x = torch.arange(12)\n",
    "x"
   ]
  },
  {
   "cell_type": "code",
   "execution_count": 6,
   "id": "be2f72e7",
   "metadata": {},
   "outputs": [
    {
     "data": {
      "text/plain": [
       "torch.Size([12])"
      ]
     },
     "execution_count": 6,
     "metadata": {},
     "output_type": "execute_result"
    }
   ],
   "source": [
    "x.shape"
   ]
  },
  {
   "cell_type": "code",
   "execution_count": 7,
   "id": "3b8bf676",
   "metadata": {},
   "outputs": [
    {
     "data": {
      "text/plain": [
       "12"
      ]
     },
     "execution_count": 7,
     "metadata": {},
     "output_type": "execute_result"
    }
   ],
   "source": [
    "x.numel()"
   ]
  },
  {
   "cell_type": "code",
   "execution_count": 8,
   "id": "fba2166a",
   "metadata": {},
   "outputs": [
    {
     "data": {
      "text/plain": [
       "tensor([[ 0,  1,  2,  3,  4,  5],\n",
       "        [ 6,  7,  8,  9, 10, 11]])"
      ]
     },
     "execution_count": 8,
     "metadata": {},
     "output_type": "execute_result"
    }
   ],
   "source": [
    "x.reshape(2, 6)"
   ]
  },
  {
   "cell_type": "code",
   "execution_count": 11,
   "id": "4468b137",
   "metadata": {},
   "outputs": [
    {
     "data": {
      "text/plain": [
       "tensor([[[0., 0., 0., 0., 0., 0.],\n",
       "         [0., 0., 0., 0., 0., 0.],\n",
       "         [0., 0., 0., 0., 0., 0.],\n",
       "         [0., 0., 0., 0., 0., 0.]],\n",
       "\n",
       "        [[0., 0., 0., 0., 0., 0.],\n",
       "         [0., 0., 0., 0., 0., 0.],\n",
       "         [0., 0., 0., 0., 0., 0.],\n",
       "         [0., 0., 0., 0., 0., 0.]]])"
      ]
     },
     "execution_count": 11,
     "metadata": {},
     "output_type": "execute_result"
    }
   ],
   "source": [
    "torch.zeros((2, 4, 6))"
   ]
  },
  {
   "cell_type": "code",
   "execution_count": 12,
   "id": "40980973",
   "metadata": {},
   "outputs": [
    {
     "data": {
      "text/plain": [
       "tensor([[[1., 1., 1., 1.],\n",
       "         [1., 1., 1., 1.],\n",
       "         [1., 1., 1., 1.]],\n",
       "\n",
       "        [[1., 1., 1., 1.],\n",
       "         [1., 1., 1., 1.],\n",
       "         [1., 1., 1., 1.]]])"
      ]
     },
     "execution_count": 12,
     "metadata": {},
     "output_type": "execute_result"
    }
   ],
   "source": [
    "torch.ones((2, 3, 4))"
   ]
  },
  {
   "cell_type": "code",
   "execution_count": 13,
   "id": "1d90c921",
   "metadata": {},
   "outputs": [
    {
     "data": {
      "text/plain": [
       "tensor([[-0.2935,  0.7789,  0.7530,  0.3024],\n",
       "        [ 0.2502,  0.2945, -0.2195,  1.0105],\n",
       "        [-1.3910,  0.2468, -1.2968,  0.7341]])"
      ]
     },
     "execution_count": 13,
     "metadata": {},
     "output_type": "execute_result"
    }
   ],
   "source": [
    "torch.randn(3, 4)"
   ]
  },
  {
   "cell_type": "code",
   "execution_count": 14,
   "id": "a4cd0077",
   "metadata": {},
   "outputs": [
    {
     "data": {
      "text/plain": [
       "tensor([[2, 1, 4, 4],\n",
       "        [8, 7, 6, 5],\n",
       "        [1, 3, 7, 9]])"
      ]
     },
     "execution_count": 14,
     "metadata": {},
     "output_type": "execute_result"
    }
   ],
   "source": [
    "torch.tensor([[2, 1, 4, 4], [8, 7, 6, 5], [1, 3, 7, 9]])"
   ]
  },
  {
   "cell_type": "code",
   "execution_count": 17,
   "id": "96094a65",
   "metadata": {},
   "outputs": [
    {
     "data": {
      "text/plain": [
       "tensor([2.7183e+00, 7.3891e+00, 5.4598e+01, 2.9810e+03])"
      ]
     },
     "execution_count": 17,
     "metadata": {},
     "output_type": "execute_result"
    }
   ],
   "source": [
    "x = torch.tensor([1.0, 2, 4, 8])\n",
    "y = torch.tensor([2, 2, 2, 2])\n",
    "x + y, x - y, x * y\n",
    "torch.exp(x)"
   ]
  },
  {
   "cell_type": "code",
   "execution_count": 19,
   "id": "3db86744",
   "metadata": {},
   "outputs": [
    {
     "data": {
      "text/plain": [
       "(tensor([[ 0.,  1.,  2.,  3.],\n",
       "         [ 4.,  5.,  6.,  7.],\n",
       "         [ 8.,  9., 10., 11.],\n",
       "         [ 2.,  1.,  4.,  4.],\n",
       "         [ 8.,  7.,  6.,  5.],\n",
       "         [ 1.,  3.,  7.,  9.]]),\n",
       " tensor([[ 0.,  1.,  2.,  3.,  2.,  1.,  4.,  4.],\n",
       "         [ 4.,  5.,  6.,  7.,  8.,  7.,  6.,  5.],\n",
       "         [ 8.,  9., 10., 11.,  1.,  3.,  7.,  9.]]))"
      ]
     },
     "execution_count": 19,
     "metadata": {},
     "output_type": "execute_result"
    }
   ],
   "source": [
    "# 张量连接\n",
    "m = torch.arange(12, dtype=torch.float32).reshape(3, 4)\n",
    "n = torch.tensor([[2, 1, 4, 4], [8, 7, 6, 5], [1, 3, 7, 9]])\n",
    "torch.cat((m, n), dim=0), torch.cat((m, n), dim=1)"
   ]
  },
  {
   "attachments": {},
   "cell_type": "markdown",
   "id": "06029d5e",
   "metadata": {},
   "source": [
    "+ ## 数据预处理"
   ]
  },
  {
   "cell_type": "code",
   "execution_count": 21,
   "id": "8f497974",
   "metadata": {},
   "outputs": [],
   "source": [
    "import os\n",
    "\n",
    "os.makedirs(os.path.join('..', 'data_ai_demo'), exist_ok=True)     # os.path.join？？？？\n",
    "data_file = os.path.join('..', 'data_ai_demo', 'house_tiny.csv')\n",
    "with open(data_file, 'w') as f:\n",
    "    f.write('NumRooms,Alley,Price\\n')\n",
    "    f.write('NA,Pave,127500\\n')\n",
    "    f.write('2,NA,106000\\n')\n",
    "    f.write('4,NA,178100\\n')\n",
    "    f.write('NA,NA,140000\\n')"
   ]
  },
  {
   "cell_type": "code",
   "execution_count": 22,
   "id": "711373b8",
   "metadata": {},
   "outputs": [
    {
     "name": "stdout",
     "output_type": "stream",
     "text": [
      "   NumRooms Alley   Price\n",
      "0       NaN  Pave  127500\n",
      "1       2.0   NaN  106000\n",
      "2       4.0   NaN  178100\n",
      "3       NaN   NaN  140000\n"
     ]
    }
   ],
   "source": [
    "import pandas as pd\n",
    "\n",
    "data = pd.read_csv(data_file)\n",
    "print(data)"
   ]
  },
  {
   "cell_type": "code",
   "execution_count": 25,
   "id": "5337e277",
   "metadata": {},
   "outputs": [
    {
     "name": "stdout",
     "output_type": "stream",
     "text": [
      "   NumRooms Alley\n",
      "0       NaN  Pave\n",
      "1       2.0   NaN\n",
      "2       4.0   NaN\n",
      "3       NaN   NaN\n",
      "   NumRooms Alley\n",
      "0       3.0  Pave\n",
      "1       2.0   NaN\n",
      "2       4.0   NaN\n",
      "3       3.0   NaN\n"
     ]
    }
   ],
   "source": [
    "inputs, outputs = data.iloc[:, 0:2], data.iloc[:, 2]   # iloc 取值左闭右开\n",
    "print(inputs)\n",
    "inputs = inputs.fillna(inputs.mean())  # fillna：Fill NA/NaN values using the specified method.\n",
    "print(inputs)"
   ]
  },
  {
   "attachments": {},
   "cell_type": "markdown",
   "id": "58b6949c",
   "metadata": {},
   "source": [
    "  + 对于inputs中的类别值或离散值，我们将“NaN”视为一个类别"
   ]
  },
  {
   "cell_type": "code",
   "execution_count": 26,
   "id": "81741d8f",
   "metadata": {},
   "outputs": [
    {
     "name": "stdout",
     "output_type": "stream",
     "text": [
      "   NumRooms  Alley_Pave  Alley_nan\n",
      "0       3.0           1          0\n",
      "1       2.0           0          1\n",
      "2       4.0           0          1\n",
      "3       3.0           0          1\n"
     ]
    }
   ],
   "source": [
    "inputs = pd.get_dummies(inputs, dummy_na=True)          #get_dummies ??\n",
    "print(inputs)"
   ]
  },
  {
   "attachments": {},
   "cell_type": "markdown",
   "id": "645fac1f",
   "metadata": {},
   "source": [
    "  + 现在inputs和outputs中的所有条目都是数值类型，它们可以转换为张量格式"
   ]
  },
  {
   "cell_type": "code",
   "execution_count": 27,
   "id": "70236a25",
   "metadata": {},
   "outputs": [
    {
     "data": {
      "text/plain": [
       "(tensor([[3., 1., 0.],\n",
       "         [2., 0., 1.],\n",
       "         [4., 0., 1.],\n",
       "         [3., 0., 1.]], dtype=torch.float64),\n",
       " tensor([127500, 106000, 178100, 140000]))"
      ]
     },
     "execution_count": 27,
     "metadata": {},
     "output_type": "execute_result"
    }
   ],
   "source": [
    "import torch\n",
    "\n",
    "X, y = torch.tensor(inputs.values), torch.tensor(outputs.values)\n",
    "X, y"
   ]
  },
  {
   "cell_type": "code",
   "execution_count": null,
   "id": "dbc3ee2a",
   "metadata": {},
   "outputs": [],
   "source": []
  },
  {
   "attachments": {},
   "cell_type": "markdown",
   "id": "c49b0a6d",
   "metadata": {},
   "source": [
    "# 第二章"
   ]
  },
  {
   "cell_type": "code",
   "execution_count": 1,
   "id": "7a0d6f25",
   "metadata": {},
   "outputs": [
    {
     "name": "stdout",
     "output_type": "stream",
     "text": [
      "tensor([[-7.4357e+06,  6.4460e-43, -7.4357e+06],\n",
      "        [ 6.4460e-43, -7.4357e+06,  6.4460e-43],\n",
      "        [-7.4357e+06,  6.4460e-43, -7.4357e+06],\n",
      "        [ 6.4460e-43, -7.4357e+06,  6.4460e-43],\n",
      "        [-7.4357e+06,  6.4460e-43, -7.4357e+06]])\n"
     ]
    }
   ],
   "source": [
    "import torch\n",
    "x = torch.empty(5,3)\n",
    "print(x)"
   ]
  },
  {
   "cell_type": "code",
   "execution_count": 2,
   "id": "fc2155be",
   "metadata": {},
   "outputs": [
    {
     "name": "stderr",
     "output_type": "stream",
     "text": [
      "d:\\miniconda\\miniconda1\\envs\\d2l\\lib\\site-packages\\torchvision\\io\\image.py:13: UserWarning: Failed to load image Python extension: [WinError 127] 找不到指定的程序。\n",
      "  warn(f\"Failed to load image Python extension: {e}\")\n"
     ]
    },
    {
     "name": "stdout",
     "output_type": "stream",
     "text": [
      "features: tensor([-1.6549,  0.6211]) \n",
      "label: tensor([-1.2140])\n"
     ]
    }
   ],
   "source": [
    "%matplotlib inline\n",
    "import random\n",
    "import torch\n",
    "from d2l import torch as d2l\n",
    "\n",
    "def synthetic_data(w, b, num_examples):  #@save\n",
    "    \"\"\"生成y=Xw+b+噪声\"\"\"\n",
    "    X = torch.normal(0, 1, (num_examples, len(w)))\n",
    "    y = torch.matmul(X, w) + b\n",
    "    y += torch.normal(0, 0.01, y.shape)\n",
    "    return X, y.reshape((-1, 1))\n",
    "\n",
    "true_w = torch.tensor([2, -3.4])\n",
    "true_b = 4.2\n",
    "features, labels = synthetic_data(true_w, true_b, 1000)\n",
    "\n",
    "print('features:', features[0],'\\nlabel:', labels[0])"
   ]
  },
  {
   "cell_type": "code",
   "execution_count": 3,
   "id": "27bbd68b",
   "metadata": {},
   "outputs": [
    {
     "data": {
      "text/plain": [
       "<matplotlib.collections.PathCollection at 0x1ccd26a0130>"
      ]
     },
     "execution_count": 3,
     "metadata": {},
     "output_type": "execute_result"
    },
    {
     "data": {
      "image/svg+xml": "<?xml version=\"1.0\" encoding=\"utf-8\" standalone=\"no\"?>\n<!DOCTYPE svg PUBLIC \"-//W3C//DTD SVG 1.1//EN\"\n  \"http://www.w3.org/Graphics/SVG/1.1/DTD/svg11.dtd\">\n<svg xmlns:xlink=\"http://www.w3.org/1999/xlink\" width=\"237.804688pt\" height=\"173.4136pt\" viewBox=\"0 0 237.804688 173.4136\" xmlns=\"http://www.w3.org/2000/svg\" version=\"1.1\">\n <metadata>\n  <rdf:RDF xmlns:dc=\"http://purl.org/dc/elements/1.1/\" xmlns:cc=\"http://creativecommons.org/ns#\" xmlns:rdf=\"http://www.w3.org/1999/02/22-rdf-syntax-ns#\">\n   <cc:Work>\n    <dc:type rdf:resource=\"http://purl.org/dc/dcmitype/StillImage\"/>\n    <dc:date>2023-03-21T21:06:24.480874</dc:date>\n    <dc:format>image/svg+xml</dc:format>\n    <dc:creator>\n     <cc:Agent>\n      <dc:title>Matplotlib v3.5.1, https://matplotlib.org/</dc:title>\n     </cc:Agent>\n    </dc:creator>\n   </cc:Work>\n  </rdf:RDF>\n </metadata>\n <defs>\n  <style type=\"text/css\">*{stroke-linejoin: round; stroke-linecap: butt}</style>\n </defs>\n <g id=\"figure_1\">\n  <g id=\"patch_1\">\n   <path d=\"M 0 173.4136 \nL 237.804688 173.4136 \nL 237.804688 0 \nL 0 0 \nz\n\" style=\"fill: #ffffff\"/>\n  </g>\n  <g id=\"axes_1\">\n   <g id=\"patch_2\">\n    <path d=\"M 35.304688 149.535475 \nL 230.604688 149.535475 \nL 230.604688 10.935475 \nL 35.304688 10.935475 \nz\n\" style=\"fill: #ffffff\"/>\n   </g>\n   <g id=\"PathCollection_1\">\n    <defs>\n     <path id=\"mc81277f250\" d=\"M 0 0.5 \nC 0.132602 0.5 0.25979 0.447317 0.353553 0.353553 \nC 0.447317 0.25979 0.5 0.132602 0.5 0 \nC 0.5 -0.132602 0.447317 -0.25979 0.353553 -0.353553 \nC 0.25979 -0.447317 0.132602 -0.5 0 -0.5 \nC -0.132602 -0.5 -0.25979 -0.447317 -0.353553 -0.353553 \nC -0.447317 -0.25979 -0.5 -0.132602 -0.5 0 \nC -0.5 0.132602 -0.447317 0.25979 -0.353553 0.353553 \nC -0.25979 0.447317 -0.132602 0.5 0 0.5 \nz\n\" style=\"stroke: #1f77b4\"/>\n    </defs>\n    <g clip-path=\"url(#p832d5c68a4)\">\n     <use xlink:href=\"#mc81277f250\" x=\"142.453343\" y=\"106.970264\" style=\"fill: #1f77b4; stroke: #1f77b4\"/>\n     <use xlink:href=\"#mc81277f250\" x=\"126.099973\" y=\"90.974512\" style=\"fill: #1f77b4; stroke: #1f77b4\"/>\n     <use xlink:href=\"#mc81277f250\" x=\"96.489719\" y=\"55.621781\" style=\"fill: #1f77b4; stroke: #1f77b4\"/>\n     <use xlink:href=\"#mc81277f250\" x=\"134.059664\" y=\"94.612636\" style=\"fill: #1f77b4; stroke: #1f77b4\"/>\n     <use xlink:href=\"#mc81277f250\" x=\"111.728463\" y=\"76.902181\" style=\"fill: #1f77b4; stroke: #1f77b4\"/>\n     <use xlink:href=\"#mc81277f250\" x=\"121.153675\" y=\"67.183985\" style=\"fill: #1f77b4; stroke: #1f77b4\"/>\n     <use xlink:href=\"#mc81277f250\" x=\"100.401389\" y=\"57.486702\" style=\"fill: #1f77b4; stroke: #1f77b4\"/>\n     <use xlink:href=\"#mc81277f250\" x=\"140.56394\" y=\"104.851941\" style=\"fill: #1f77b4; stroke: #1f77b4\"/>\n     <use xlink:href=\"#mc81277f250\" x=\"112.097103\" y=\"74.232896\" style=\"fill: #1f77b4; stroke: #1f77b4\"/>\n     <use xlink:href=\"#mc81277f250\" x=\"129.270496\" y=\"83.463581\" style=\"fill: #1f77b4; stroke: #1f77b4\"/>\n     <use xlink:href=\"#mc81277f250\" x=\"168.942619\" y=\"113.475459\" style=\"fill: #1f77b4; stroke: #1f77b4\"/>\n     <use xlink:href=\"#mc81277f250\" x=\"152.759879\" y=\"98.902591\" style=\"fill: #1f77b4; stroke: #1f77b4\"/>\n     <use xlink:href=\"#mc81277f250\" x=\"136.151696\" y=\"98.670355\" style=\"fill: #1f77b4; stroke: #1f77b4\"/>\n     <use xlink:href=\"#mc81277f250\" x=\"129.455356\" y=\"76.102806\" style=\"fill: #1f77b4; stroke: #1f77b4\"/>\n     <use xlink:href=\"#mc81277f250\" x=\"175.284325\" y=\"113.984523\" style=\"fill: #1f77b4; stroke: #1f77b4\"/>\n     <use xlink:href=\"#mc81277f250\" x=\"110.307894\" y=\"82.94714\" style=\"fill: #1f77b4; stroke: #1f77b4\"/>\n     <use xlink:href=\"#mc81277f250\" x=\"114.90331\" y=\"78.220934\" style=\"fill: #1f77b4; stroke: #1f77b4\"/>\n     <use xlink:href=\"#mc81277f250\" x=\"152.911848\" y=\"114.006192\" style=\"fill: #1f77b4; stroke: #1f77b4\"/>\n     <use xlink:href=\"#mc81277f250\" x=\"105.176583\" y=\"74.240778\" style=\"fill: #1f77b4; stroke: #1f77b4\"/>\n     <use xlink:href=\"#mc81277f250\" x=\"183.748793\" y=\"110.35406\" style=\"fill: #1f77b4; stroke: #1f77b4\"/>\n     <use xlink:href=\"#mc81277f250\" x=\"109.077168\" y=\"66.702922\" style=\"fill: #1f77b4; stroke: #1f77b4\"/>\n     <use xlink:href=\"#mc81277f250\" x=\"122.865576\" y=\"81.562644\" style=\"fill: #1f77b4; stroke: #1f77b4\"/>\n     <use xlink:href=\"#mc81277f250\" x=\"97.309855\" y=\"66.579704\" style=\"fill: #1f77b4; stroke: #1f77b4\"/>\n     <use xlink:href=\"#mc81277f250\" x=\"103.555422\" y=\"88.639324\" style=\"fill: #1f77b4; stroke: #1f77b4\"/>\n     <use xlink:href=\"#mc81277f250\" x=\"114.169377\" y=\"71.447382\" style=\"fill: #1f77b4; stroke: #1f77b4\"/>\n     <use xlink:href=\"#mc81277f250\" x=\"126.988991\" y=\"88.428705\" style=\"fill: #1f77b4; stroke: #1f77b4\"/>\n     <use xlink:href=\"#mc81277f250\" x=\"133.24989\" y=\"89.623537\" style=\"fill: #1f77b4; stroke: #1f77b4\"/>\n     <use xlink:href=\"#mc81277f250\" x=\"148.007552\" y=\"95.235255\" style=\"fill: #1f77b4; stroke: #1f77b4\"/>\n     <use xlink:href=\"#mc81277f250\" x=\"137.715515\" y=\"87.840449\" style=\"fill: #1f77b4; stroke: #1f77b4\"/>\n     <use xlink:href=\"#mc81277f250\" x=\"188.891504\" y=\"124.599958\" style=\"fill: #1f77b4; stroke: #1f77b4\"/>\n     <use xlink:href=\"#mc81277f250\" x=\"93.554114\" y=\"56.743806\" style=\"fill: #1f77b4; stroke: #1f77b4\"/>\n     <use xlink:href=\"#mc81277f250\" x=\"143.361776\" y=\"97.053727\" style=\"fill: #1f77b4; stroke: #1f77b4\"/>\n     <use xlink:href=\"#mc81277f250\" x=\"94.695578\" y=\"66.778327\" style=\"fill: #1f77b4; stroke: #1f77b4\"/>\n     <use xlink:href=\"#mc81277f250\" x=\"148.147082\" y=\"81.246541\" style=\"fill: #1f77b4; stroke: #1f77b4\"/>\n     <use xlink:href=\"#mc81277f250\" x=\"125.551035\" y=\"73.10216\" style=\"fill: #1f77b4; stroke: #1f77b4\"/>\n     <use xlink:href=\"#mc81277f250\" x=\"129.338451\" y=\"102.302486\" style=\"fill: #1f77b4; stroke: #1f77b4\"/>\n     <use xlink:href=\"#mc81277f250\" x=\"136.467428\" y=\"97.233234\" style=\"fill: #1f77b4; stroke: #1f77b4\"/>\n     <use xlink:href=\"#mc81277f250\" x=\"109.044282\" y=\"77.368698\" style=\"fill: #1f77b4; stroke: #1f77b4\"/>\n     <use xlink:href=\"#mc81277f250\" x=\"165.554925\" y=\"114.008602\" style=\"fill: #1f77b4; stroke: #1f77b4\"/>\n     <use xlink:href=\"#mc81277f250\" x=\"88.603638\" y=\"57.24602\" style=\"fill: #1f77b4; stroke: #1f77b4\"/>\n     <use xlink:href=\"#mc81277f250\" x=\"132.662796\" y=\"97.045742\" style=\"fill: #1f77b4; stroke: #1f77b4\"/>\n     <use xlink:href=\"#mc81277f250\" x=\"147.043177\" y=\"83.555538\" style=\"fill: #1f77b4; stroke: #1f77b4\"/>\n     <use xlink:href=\"#mc81277f250\" x=\"152.997316\" y=\"99.007562\" style=\"fill: #1f77b4; stroke: #1f77b4\"/>\n     <use xlink:href=\"#mc81277f250\" x=\"142.206108\" y=\"95.72576\" style=\"fill: #1f77b4; stroke: #1f77b4\"/>\n     <use xlink:href=\"#mc81277f250\" x=\"183.104302\" y=\"119.723386\" style=\"fill: #1f77b4; stroke: #1f77b4\"/>\n     <use xlink:href=\"#mc81277f250\" x=\"113.804278\" y=\"80.473145\" style=\"fill: #1f77b4; stroke: #1f77b4\"/>\n     <use xlink:href=\"#mc81277f250\" x=\"120.98982\" y=\"79.631386\" style=\"fill: #1f77b4; stroke: #1f77b4\"/>\n     <use xlink:href=\"#mc81277f250\" x=\"108.374361\" y=\"64.678992\" style=\"fill: #1f77b4; stroke: #1f77b4\"/>\n     <use xlink:href=\"#mc81277f250\" x=\"114.343313\" y=\"66.19302\" style=\"fill: #1f77b4; stroke: #1f77b4\"/>\n     <use xlink:href=\"#mc81277f250\" x=\"145.14068\" y=\"95.094897\" style=\"fill: #1f77b4; stroke: #1f77b4\"/>\n     <use xlink:href=\"#mc81277f250\" x=\"77.130449\" y=\"53.829894\" style=\"fill: #1f77b4; stroke: #1f77b4\"/>\n     <use xlink:href=\"#mc81277f250\" x=\"137.358644\" y=\"92.967952\" style=\"fill: #1f77b4; stroke: #1f77b4\"/>\n     <use xlink:href=\"#mc81277f250\" x=\"78.687948\" y=\"43.188698\" style=\"fill: #1f77b4; stroke: #1f77b4\"/>\n     <use xlink:href=\"#mc81277f250\" x=\"135.52798\" y=\"100.24832\" style=\"fill: #1f77b4; stroke: #1f77b4\"/>\n     <use xlink:href=\"#mc81277f250\" x=\"127.568836\" y=\"101.581155\" style=\"fill: #1f77b4; stroke: #1f77b4\"/>\n     <use xlink:href=\"#mc81277f250\" x=\"114.281857\" y=\"78.403391\" style=\"fill: #1f77b4; stroke: #1f77b4\"/>\n     <use xlink:href=\"#mc81277f250\" x=\"143.715792\" y=\"86.380002\" style=\"fill: #1f77b4; stroke: #1f77b4\"/>\n     <use xlink:href=\"#mc81277f250\" x=\"107.349907\" y=\"73.401746\" style=\"fill: #1f77b4; stroke: #1f77b4\"/>\n     <use xlink:href=\"#mc81277f250\" x=\"141.531419\" y=\"88.425978\" style=\"fill: #1f77b4; stroke: #1f77b4\"/>\n     <use xlink:href=\"#mc81277f250\" x=\"113.593337\" y=\"71.750104\" style=\"fill: #1f77b4; stroke: #1f77b4\"/>\n     <use xlink:href=\"#mc81277f250\" x=\"145.498219\" y=\"78.730547\" style=\"fill: #1f77b4; stroke: #1f77b4\"/>\n     <use xlink:href=\"#mc81277f250\" x=\"109.805873\" y=\"82.940463\" style=\"fill: #1f77b4; stroke: #1f77b4\"/>\n     <use xlink:href=\"#mc81277f250\" x=\"145.384226\" y=\"110.601911\" style=\"fill: #1f77b4; stroke: #1f77b4\"/>\n     <use xlink:href=\"#mc81277f250\" x=\"119.518042\" y=\"85.934177\" style=\"fill: #1f77b4; stroke: #1f77b4\"/>\n     <use xlink:href=\"#mc81277f250\" x=\"159.583226\" y=\"108.549517\" style=\"fill: #1f77b4; stroke: #1f77b4\"/>\n     <use xlink:href=\"#mc81277f250\" x=\"100.046285\" y=\"70.303548\" style=\"fill: #1f77b4; stroke: #1f77b4\"/>\n     <use xlink:href=\"#mc81277f250\" x=\"118.041273\" y=\"69.676284\" style=\"fill: #1f77b4; stroke: #1f77b4\"/>\n     <use xlink:href=\"#mc81277f250\" x=\"112.720157\" y=\"66.290945\" style=\"fill: #1f77b4; stroke: #1f77b4\"/>\n     <use xlink:href=\"#mc81277f250\" x=\"153.579428\" y=\"98.181471\" style=\"fill: #1f77b4; stroke: #1f77b4\"/>\n     <use xlink:href=\"#mc81277f250\" x=\"127.807126\" y=\"71.301021\" style=\"fill: #1f77b4; stroke: #1f77b4\"/>\n     <use xlink:href=\"#mc81277f250\" x=\"142.022614\" y=\"117.191189\" style=\"fill: #1f77b4; stroke: #1f77b4\"/>\n     <use xlink:href=\"#mc81277f250\" x=\"135.865682\" y=\"88.879756\" style=\"fill: #1f77b4; stroke: #1f77b4\"/>\n     <use xlink:href=\"#mc81277f250\" x=\"91.551612\" y=\"62.790592\" style=\"fill: #1f77b4; stroke: #1f77b4\"/>\n     <use xlink:href=\"#mc81277f250\" x=\"120.185886\" y=\"95.581208\" style=\"fill: #1f77b4; stroke: #1f77b4\"/>\n     <use xlink:href=\"#mc81277f250\" x=\"172.536995\" y=\"119.32735\" style=\"fill: #1f77b4; stroke: #1f77b4\"/>\n     <use xlink:href=\"#mc81277f250\" x=\"130.158455\" y=\"79.640029\" style=\"fill: #1f77b4; stroke: #1f77b4\"/>\n     <use xlink:href=\"#mc81277f250\" x=\"86.494965\" y=\"63.85685\" style=\"fill: #1f77b4; stroke: #1f77b4\"/>\n     <use xlink:href=\"#mc81277f250\" x=\"126.798467\" y=\"74.096372\" style=\"fill: #1f77b4; stroke: #1f77b4\"/>\n     <use xlink:href=\"#mc81277f250\" x=\"150.203331\" y=\"94.248571\" style=\"fill: #1f77b4; stroke: #1f77b4\"/>\n     <use xlink:href=\"#mc81277f250\" x=\"143.972238\" y=\"87.770115\" style=\"fill: #1f77b4; stroke: #1f77b4\"/>\n     <use xlink:href=\"#mc81277f250\" x=\"131.164362\" y=\"83.03783\" style=\"fill: #1f77b4; stroke: #1f77b4\"/>\n     <use xlink:href=\"#mc81277f250\" x=\"114.30286\" y=\"83.876115\" style=\"fill: #1f77b4; stroke: #1f77b4\"/>\n     <use xlink:href=\"#mc81277f250\" x=\"70.807971\" y=\"50.640799\" style=\"fill: #1f77b4; stroke: #1f77b4\"/>\n     <use xlink:href=\"#mc81277f250\" x=\"127.410238\" y=\"90.551878\" style=\"fill: #1f77b4; stroke: #1f77b4\"/>\n     <use xlink:href=\"#mc81277f250\" x=\"100.660839\" y=\"62.894254\" style=\"fill: #1f77b4; stroke: #1f77b4\"/>\n     <use xlink:href=\"#mc81277f250\" x=\"144.657721\" y=\"99.461488\" style=\"fill: #1f77b4; stroke: #1f77b4\"/>\n     <use xlink:href=\"#mc81277f250\" x=\"77.12677\" y=\"43.9178\" style=\"fill: #1f77b4; stroke: #1f77b4\"/>\n     <use xlink:href=\"#mc81277f250\" x=\"120.075592\" y=\"86.128595\" style=\"fill: #1f77b4; stroke: #1f77b4\"/>\n     <use xlink:href=\"#mc81277f250\" x=\"127.864983\" y=\"74.987082\" style=\"fill: #1f77b4; stroke: #1f77b4\"/>\n     <use xlink:href=\"#mc81277f250\" x=\"118.481162\" y=\"80.862422\" style=\"fill: #1f77b4; stroke: #1f77b4\"/>\n     <use xlink:href=\"#mc81277f250\" x=\"122.197678\" y=\"63.555935\" style=\"fill: #1f77b4; stroke: #1f77b4\"/>\n     <use xlink:href=\"#mc81277f250\" x=\"136.910878\" y=\"85.665593\" style=\"fill: #1f77b4; stroke: #1f77b4\"/>\n     <use xlink:href=\"#mc81277f250\" x=\"118.155102\" y=\"74.759193\" style=\"fill: #1f77b4; stroke: #1f77b4\"/>\n     <use xlink:href=\"#mc81277f250\" x=\"137.311861\" y=\"87.051031\" style=\"fill: #1f77b4; stroke: #1f77b4\"/>\n     <use xlink:href=\"#mc81277f250\" x=\"56.842904\" y=\"32.615078\" style=\"fill: #1f77b4; stroke: #1f77b4\"/>\n     <use xlink:href=\"#mc81277f250\" x=\"130.842508\" y=\"91.363357\" style=\"fill: #1f77b4; stroke: #1f77b4\"/>\n     <use xlink:href=\"#mc81277f250\" x=\"114.419459\" y=\"75.459451\" style=\"fill: #1f77b4; stroke: #1f77b4\"/>\n     <use xlink:href=\"#mc81277f250\" x=\"109.129329\" y=\"70.117793\" style=\"fill: #1f77b4; stroke: #1f77b4\"/>\n     <use xlink:href=\"#mc81277f250\" x=\"151.875802\" y=\"101.647832\" style=\"fill: #1f77b4; stroke: #1f77b4\"/>\n     <use xlink:href=\"#mc81277f250\" x=\"110.461719\" y=\"73.705492\" style=\"fill: #1f77b4; stroke: #1f77b4\"/>\n     <use xlink:href=\"#mc81277f250\" x=\"149.129463\" y=\"90.663792\" style=\"fill: #1f77b4; stroke: #1f77b4\"/>\n     <use xlink:href=\"#mc81277f250\" x=\"120.616587\" y=\"70.472973\" style=\"fill: #1f77b4; stroke: #1f77b4\"/>\n     <use xlink:href=\"#mc81277f250\" x=\"149.388588\" y=\"95.553986\" style=\"fill: #1f77b4; stroke: #1f77b4\"/>\n     <use xlink:href=\"#mc81277f250\" x=\"109.413491\" y=\"72.781652\" style=\"fill: #1f77b4; stroke: #1f77b4\"/>\n     <use xlink:href=\"#mc81277f250\" x=\"99.856734\" y=\"80.586022\" style=\"fill: #1f77b4; stroke: #1f77b4\"/>\n     <use xlink:href=\"#mc81277f250\" x=\"162.75549\" y=\"109.903955\" style=\"fill: #1f77b4; stroke: #1f77b4\"/>\n     <use xlink:href=\"#mc81277f250\" x=\"100.872183\" y=\"65.604495\" style=\"fill: #1f77b4; stroke: #1f77b4\"/>\n     <use xlink:href=\"#mc81277f250\" x=\"102.300906\" y=\"60.4887\" style=\"fill: #1f77b4; stroke: #1f77b4\"/>\n     <use xlink:href=\"#mc81277f250\" x=\"88.907156\" y=\"62.401971\" style=\"fill: #1f77b4; stroke: #1f77b4\"/>\n     <use xlink:href=\"#mc81277f250\" x=\"143.641017\" y=\"80.106229\" style=\"fill: #1f77b4; stroke: #1f77b4\"/>\n     <use xlink:href=\"#mc81277f250\" x=\"162.810946\" y=\"118.398014\" style=\"fill: #1f77b4; stroke: #1f77b4\"/>\n     <use xlink:href=\"#mc81277f250\" x=\"53.754387\" y=\"31.614386\" style=\"fill: #1f77b4; stroke: #1f77b4\"/>\n     <use xlink:href=\"#mc81277f250\" x=\"128.556184\" y=\"93.812102\" style=\"fill: #1f77b4; stroke: #1f77b4\"/>\n     <use xlink:href=\"#mc81277f250\" x=\"183.373417\" y=\"97.293449\" style=\"fill: #1f77b4; stroke: #1f77b4\"/>\n     <use xlink:href=\"#mc81277f250\" x=\"154.326779\" y=\"83.866404\" style=\"fill: #1f77b4; stroke: #1f77b4\"/>\n     <use xlink:href=\"#mc81277f250\" x=\"149.482343\" y=\"94.123184\" style=\"fill: #1f77b4; stroke: #1f77b4\"/>\n     <use xlink:href=\"#mc81277f250\" x=\"128.152038\" y=\"83.909852\" style=\"fill: #1f77b4; stroke: #1f77b4\"/>\n     <use xlink:href=\"#mc81277f250\" x=\"89.342865\" y=\"53.019147\" style=\"fill: #1f77b4; stroke: #1f77b4\"/>\n     <use xlink:href=\"#mc81277f250\" x=\"105.575128\" y=\"80.327984\" style=\"fill: #1f77b4; stroke: #1f77b4\"/>\n     <use xlink:href=\"#mc81277f250\" x=\"138.330342\" y=\"75.383969\" style=\"fill: #1f77b4; stroke: #1f77b4\"/>\n     <use xlink:href=\"#mc81277f250\" x=\"165.807669\" y=\"106.253809\" style=\"fill: #1f77b4; stroke: #1f77b4\"/>\n     <use xlink:href=\"#mc81277f250\" x=\"134.798175\" y=\"82.339191\" style=\"fill: #1f77b4; stroke: #1f77b4\"/>\n     <use xlink:href=\"#mc81277f250\" x=\"158.006851\" y=\"113.972052\" style=\"fill: #1f77b4; stroke: #1f77b4\"/>\n     <use xlink:href=\"#mc81277f250\" x=\"99.957988\" y=\"53.966966\" style=\"fill: #1f77b4; stroke: #1f77b4\"/>\n     <use xlink:href=\"#mc81277f250\" x=\"128.562279\" y=\"89.965036\" style=\"fill: #1f77b4; stroke: #1f77b4\"/>\n     <use xlink:href=\"#mc81277f250\" x=\"125.482073\" y=\"95.23301\" style=\"fill: #1f77b4; stroke: #1f77b4\"/>\n     <use xlink:href=\"#mc81277f250\" x=\"109.580136\" y=\"69.952076\" style=\"fill: #1f77b4; stroke: #1f77b4\"/>\n     <use xlink:href=\"#mc81277f250\" x=\"131.447287\" y=\"88.54996\" style=\"fill: #1f77b4; stroke: #1f77b4\"/>\n     <use xlink:href=\"#mc81277f250\" x=\"114.938177\" y=\"69.731704\" style=\"fill: #1f77b4; stroke: #1f77b4\"/>\n     <use xlink:href=\"#mc81277f250\" x=\"141.779989\" y=\"93.827497\" style=\"fill: #1f77b4; stroke: #1f77b4\"/>\n     <use xlink:href=\"#mc81277f250\" x=\"104.80895\" y=\"76.890886\" style=\"fill: #1f77b4; stroke: #1f77b4\"/>\n     <use xlink:href=\"#mc81277f250\" x=\"147.934321\" y=\"82.602007\" style=\"fill: #1f77b4; stroke: #1f77b4\"/>\n     <use xlink:href=\"#mc81277f250\" x=\"121.366792\" y=\"71.203715\" style=\"fill: #1f77b4; stroke: #1f77b4\"/>\n     <use xlink:href=\"#mc81277f250\" x=\"107.05186\" y=\"61.881589\" style=\"fill: #1f77b4; stroke: #1f77b4\"/>\n     <use xlink:href=\"#mc81277f250\" x=\"147.140152\" y=\"96.30202\" style=\"fill: #1f77b4; stroke: #1f77b4\"/>\n     <use xlink:href=\"#mc81277f250\" x=\"81.132081\" y=\"44.341704\" style=\"fill: #1f77b4; stroke: #1f77b4\"/>\n     <use xlink:href=\"#mc81277f250\" x=\"161.602228\" y=\"98.892642\" style=\"fill: #1f77b4; stroke: #1f77b4\"/>\n     <use xlink:href=\"#mc81277f250\" x=\"131.867437\" y=\"69.501453\" style=\"fill: #1f77b4; stroke: #1f77b4\"/>\n     <use xlink:href=\"#mc81277f250\" x=\"98.322207\" y=\"68.059988\" style=\"fill: #1f77b4; stroke: #1f77b4\"/>\n     <use xlink:href=\"#mc81277f250\" x=\"108.03607\" y=\"67.679769\" style=\"fill: #1f77b4; stroke: #1f77b4\"/>\n     <use xlink:href=\"#mc81277f250\" x=\"90.591549\" y=\"72.482392\" style=\"fill: #1f77b4; stroke: #1f77b4\"/>\n     <use xlink:href=\"#mc81277f250\" x=\"104.871921\" y=\"70.358066\" style=\"fill: #1f77b4; stroke: #1f77b4\"/>\n     <use xlink:href=\"#mc81277f250\" x=\"143.000564\" y=\"90.885026\" style=\"fill: #1f77b4; stroke: #1f77b4\"/>\n     <use xlink:href=\"#mc81277f250\" x=\"122.79132\" y=\"80.181752\" style=\"fill: #1f77b4; stroke: #1f77b4\"/>\n     <use xlink:href=\"#mc81277f250\" x=\"135.668895\" y=\"97.835316\" style=\"fill: #1f77b4; stroke: #1f77b4\"/>\n     <use xlink:href=\"#mc81277f250\" x=\"119.337076\" y=\"88.874287\" style=\"fill: #1f77b4; stroke: #1f77b4\"/>\n     <use xlink:href=\"#mc81277f250\" x=\"137.484898\" y=\"92.408047\" style=\"fill: #1f77b4; stroke: #1f77b4\"/>\n     <use xlink:href=\"#mc81277f250\" x=\"132.521182\" y=\"77.470515\" style=\"fill: #1f77b4; stroke: #1f77b4\"/>\n     <use xlink:href=\"#mc81277f250\" x=\"105.72757\" y=\"65.342708\" style=\"fill: #1f77b4; stroke: #1f77b4\"/>\n     <use xlink:href=\"#mc81277f250\" x=\"130.282607\" y=\"88.649811\" style=\"fill: #1f77b4; stroke: #1f77b4\"/>\n     <use xlink:href=\"#mc81277f250\" x=\"133.193297\" y=\"84.0589\" style=\"fill: #1f77b4; stroke: #1f77b4\"/>\n     <use xlink:href=\"#mc81277f250\" x=\"168.610963\" y=\"99.559819\" style=\"fill: #1f77b4; stroke: #1f77b4\"/>\n     <use xlink:href=\"#mc81277f250\" x=\"122.016191\" y=\"83.2289\" style=\"fill: #1f77b4; stroke: #1f77b4\"/>\n     <use xlink:href=\"#mc81277f250\" x=\"130.504526\" y=\"87.725253\" style=\"fill: #1f77b4; stroke: #1f77b4\"/>\n     <use xlink:href=\"#mc81277f250\" x=\"78.617112\" y=\"50.223246\" style=\"fill: #1f77b4; stroke: #1f77b4\"/>\n     <use xlink:href=\"#mc81277f250\" x=\"131.215747\" y=\"75.685164\" style=\"fill: #1f77b4; stroke: #1f77b4\"/>\n     <use xlink:href=\"#mc81277f250\" x=\"123.660948\" y=\"79.232026\" style=\"fill: #1f77b4; stroke: #1f77b4\"/>\n     <use xlink:href=\"#mc81277f250\" x=\"94.533264\" y=\"69.195081\" style=\"fill: #1f77b4; stroke: #1f77b4\"/>\n     <use xlink:href=\"#mc81277f250\" x=\"124.84747\" y=\"78.100229\" style=\"fill: #1f77b4; stroke: #1f77b4\"/>\n     <use xlink:href=\"#mc81277f250\" x=\"147.95677\" y=\"96.062584\" style=\"fill: #1f77b4; stroke: #1f77b4\"/>\n     <use xlink:href=\"#mc81277f250\" x=\"131.913978\" y=\"80.812256\" style=\"fill: #1f77b4; stroke: #1f77b4\"/>\n     <use xlink:href=\"#mc81277f250\" x=\"161.187643\" y=\"108.457789\" style=\"fill: #1f77b4; stroke: #1f77b4\"/>\n     <use xlink:href=\"#mc81277f250\" x=\"70.165267\" y=\"58.960891\" style=\"fill: #1f77b4; stroke: #1f77b4\"/>\n     <use xlink:href=\"#mc81277f250\" x=\"135.321679\" y=\"89.210215\" style=\"fill: #1f77b4; stroke: #1f77b4\"/>\n     <use xlink:href=\"#mc81277f250\" x=\"108.294693\" y=\"73.226722\" style=\"fill: #1f77b4; stroke: #1f77b4\"/>\n     <use xlink:href=\"#mc81277f250\" x=\"115.713016\" y=\"80.448067\" style=\"fill: #1f77b4; stroke: #1f77b4\"/>\n     <use xlink:href=\"#mc81277f250\" x=\"135.209678\" y=\"74.484492\" style=\"fill: #1f77b4; stroke: #1f77b4\"/>\n     <use xlink:href=\"#mc81277f250\" x=\"77.198637\" y=\"68.325336\" style=\"fill: #1f77b4; stroke: #1f77b4\"/>\n     <use xlink:href=\"#mc81277f250\" x=\"107.580381\" y=\"71.817533\" style=\"fill: #1f77b4; stroke: #1f77b4\"/>\n     <use xlink:href=\"#mc81277f250\" x=\"106.767238\" y=\"66.096842\" style=\"fill: #1f77b4; stroke: #1f77b4\"/>\n     <use xlink:href=\"#mc81277f250\" x=\"151.07038\" y=\"87.159013\" style=\"fill: #1f77b4; stroke: #1f77b4\"/>\n     <use xlink:href=\"#mc81277f250\" x=\"120.690018\" y=\"60.890575\" style=\"fill: #1f77b4; stroke: #1f77b4\"/>\n     <use xlink:href=\"#mc81277f250\" x=\"109.602174\" y=\"79.184288\" style=\"fill: #1f77b4; stroke: #1f77b4\"/>\n     <use xlink:href=\"#mc81277f250\" x=\"117.21086\" y=\"82.990368\" style=\"fill: #1f77b4; stroke: #1f77b4\"/>\n     <use xlink:href=\"#mc81277f250\" x=\"147.644692\" y=\"90.899723\" style=\"fill: #1f77b4; stroke: #1f77b4\"/>\n     <use xlink:href=\"#mc81277f250\" x=\"97.081473\" y=\"79.806355\" style=\"fill: #1f77b4; stroke: #1f77b4\"/>\n     <use xlink:href=\"#mc81277f250\" x=\"142.88668\" y=\"85.585156\" style=\"fill: #1f77b4; stroke: #1f77b4\"/>\n     <use xlink:href=\"#mc81277f250\" x=\"120.163096\" y=\"81.906335\" style=\"fill: #1f77b4; stroke: #1f77b4\"/>\n     <use xlink:href=\"#mc81277f250\" x=\"115.259887\" y=\"79.819466\" style=\"fill: #1f77b4; stroke: #1f77b4\"/>\n     <use xlink:href=\"#mc81277f250\" x=\"128.187612\" y=\"79.881261\" style=\"fill: #1f77b4; stroke: #1f77b4\"/>\n     <use xlink:href=\"#mc81277f250\" x=\"119.330639\" y=\"83.151826\" style=\"fill: #1f77b4; stroke: #1f77b4\"/>\n     <use xlink:href=\"#mc81277f250\" x=\"152.278612\" y=\"106.813612\" style=\"fill: #1f77b4; stroke: #1f77b4\"/>\n     <use xlink:href=\"#mc81277f250\" x=\"116.40098\" y=\"78.903025\" style=\"fill: #1f77b4; stroke: #1f77b4\"/>\n     <use xlink:href=\"#mc81277f250\" x=\"160.458386\" y=\"111.072379\" style=\"fill: #1f77b4; stroke: #1f77b4\"/>\n     <use xlink:href=\"#mc81277f250\" x=\"131.969796\" y=\"79.68351\" style=\"fill: #1f77b4; stroke: #1f77b4\"/>\n     <use xlink:href=\"#mc81277f250\" x=\"122.655416\" y=\"84.881902\" style=\"fill: #1f77b4; stroke: #1f77b4\"/>\n     <use xlink:href=\"#mc81277f250\" x=\"113.809426\" y=\"50.714049\" style=\"fill: #1f77b4; stroke: #1f77b4\"/>\n     <use xlink:href=\"#mc81277f250\" x=\"111.151396\" y=\"70.896361\" style=\"fill: #1f77b4; stroke: #1f77b4\"/>\n     <use xlink:href=\"#mc81277f250\" x=\"163.958981\" y=\"106.982169\" style=\"fill: #1f77b4; stroke: #1f77b4\"/>\n     <use xlink:href=\"#mc81277f250\" x=\"152.247968\" y=\"97.546576\" style=\"fill: #1f77b4; stroke: #1f77b4\"/>\n     <use xlink:href=\"#mc81277f250\" x=\"120.476982\" y=\"89.540633\" style=\"fill: #1f77b4; stroke: #1f77b4\"/>\n     <use xlink:href=\"#mc81277f250\" x=\"121.0555\" y=\"79.176235\" style=\"fill: #1f77b4; stroke: #1f77b4\"/>\n     <use xlink:href=\"#mc81277f250\" x=\"149.74035\" y=\"102.87648\" style=\"fill: #1f77b4; stroke: #1f77b4\"/>\n     <use xlink:href=\"#mc81277f250\" x=\"124.831912\" y=\"73.586804\" style=\"fill: #1f77b4; stroke: #1f77b4\"/>\n     <use xlink:href=\"#mc81277f250\" x=\"140.593533\" y=\"93.658589\" style=\"fill: #1f77b4; stroke: #1f77b4\"/>\n     <use xlink:href=\"#mc81277f250\" x=\"112.541198\" y=\"78.372677\" style=\"fill: #1f77b4; stroke: #1f77b4\"/>\n     <use xlink:href=\"#mc81277f250\" x=\"158.727903\" y=\"113.520488\" style=\"fill: #1f77b4; stroke: #1f77b4\"/>\n     <use xlink:href=\"#mc81277f250\" x=\"123.250024\" y=\"65.947038\" style=\"fill: #1f77b4; stroke: #1f77b4\"/>\n     <use xlink:href=\"#mc81277f250\" x=\"114.676398\" y=\"66.093365\" style=\"fill: #1f77b4; stroke: #1f77b4\"/>\n     <use xlink:href=\"#mc81277f250\" x=\"54.182563\" y=\"36.561401\" style=\"fill: #1f77b4; stroke: #1f77b4\"/>\n     <use xlink:href=\"#mc81277f250\" x=\"115.538565\" y=\"76.447082\" style=\"fill: #1f77b4; stroke: #1f77b4\"/>\n     <use xlink:href=\"#mc81277f250\" x=\"109.487103\" y=\"73.949522\" style=\"fill: #1f77b4; stroke: #1f77b4\"/>\n     <use xlink:href=\"#mc81277f250\" x=\"125.225499\" y=\"83.806951\" style=\"fill: #1f77b4; stroke: #1f77b4\"/>\n     <use xlink:href=\"#mc81277f250\" x=\"141.130358\" y=\"100.822537\" style=\"fill: #1f77b4; stroke: #1f77b4\"/>\n     <use xlink:href=\"#mc81277f250\" x=\"116.082369\" y=\"72.547255\" style=\"fill: #1f77b4; stroke: #1f77b4\"/>\n     <use xlink:href=\"#mc81277f250\" x=\"123.646553\" y=\"82.229906\" style=\"fill: #1f77b4; stroke: #1f77b4\"/>\n     <use xlink:href=\"#mc81277f250\" x=\"151.276752\" y=\"98.568612\" style=\"fill: #1f77b4; stroke: #1f77b4\"/>\n     <use xlink:href=\"#mc81277f250\" x=\"115.144615\" y=\"66.401089\" style=\"fill: #1f77b4; stroke: #1f77b4\"/>\n     <use xlink:href=\"#mc81277f250\" x=\"167.580666\" y=\"121.198072\" style=\"fill: #1f77b4; stroke: #1f77b4\"/>\n     <use xlink:href=\"#mc81277f250\" x=\"129.948283\" y=\"69.729493\" style=\"fill: #1f77b4; stroke: #1f77b4\"/>\n     <use xlink:href=\"#mc81277f250\" x=\"120.453672\" y=\"75.689377\" style=\"fill: #1f77b4; stroke: #1f77b4\"/>\n     <use xlink:href=\"#mc81277f250\" x=\"138.861809\" y=\"86.8369\" style=\"fill: #1f77b4; stroke: #1f77b4\"/>\n     <use xlink:href=\"#mc81277f250\" x=\"74.379687\" y=\"47.150108\" style=\"fill: #1f77b4; stroke: #1f77b4\"/>\n     <use xlink:href=\"#mc81277f250\" x=\"133.785295\" y=\"93.921963\" style=\"fill: #1f77b4; stroke: #1f77b4\"/>\n     <use xlink:href=\"#mc81277f250\" x=\"143.978974\" y=\"84.203552\" style=\"fill: #1f77b4; stroke: #1f77b4\"/>\n     <use xlink:href=\"#mc81277f250\" x=\"142.319824\" y=\"94.90656\" style=\"fill: #1f77b4; stroke: #1f77b4\"/>\n     <use xlink:href=\"#mc81277f250\" x=\"159.926144\" y=\"107.109849\" style=\"fill: #1f77b4; stroke: #1f77b4\"/>\n     <use xlink:href=\"#mc81277f250\" x=\"161.06951\" y=\"105.412033\" style=\"fill: #1f77b4; stroke: #1f77b4\"/>\n     <use xlink:href=\"#mc81277f250\" x=\"120.727858\" y=\"68.626786\" style=\"fill: #1f77b4; stroke: #1f77b4\"/>\n     <use xlink:href=\"#mc81277f250\" x=\"126.337311\" y=\"89.936994\" style=\"fill: #1f77b4; stroke: #1f77b4\"/>\n     <use xlink:href=\"#mc81277f250\" x=\"83.533684\" y=\"52.794558\" style=\"fill: #1f77b4; stroke: #1f77b4\"/>\n     <use xlink:href=\"#mc81277f250\" x=\"136.358154\" y=\"82.690275\" style=\"fill: #1f77b4; stroke: #1f77b4\"/>\n     <use xlink:href=\"#mc81277f250\" x=\"186.75864\" y=\"120.122651\" style=\"fill: #1f77b4; stroke: #1f77b4\"/>\n     <use xlink:href=\"#mc81277f250\" x=\"147.592078\" y=\"102.329159\" style=\"fill: #1f77b4; stroke: #1f77b4\"/>\n     <use xlink:href=\"#mc81277f250\" x=\"132.470743\" y=\"70.698192\" style=\"fill: #1f77b4; stroke: #1f77b4\"/>\n     <use xlink:href=\"#mc81277f250\" x=\"150.437975\" y=\"113.400092\" style=\"fill: #1f77b4; stroke: #1f77b4\"/>\n     <use xlink:href=\"#mc81277f250\" x=\"140.676579\" y=\"94.139516\" style=\"fill: #1f77b4; stroke: #1f77b4\"/>\n     <use xlink:href=\"#mc81277f250\" x=\"119.104609\" y=\"60.793048\" style=\"fill: #1f77b4; stroke: #1f77b4\"/>\n     <use xlink:href=\"#mc81277f250\" x=\"130.18813\" y=\"87.402457\" style=\"fill: #1f77b4; stroke: #1f77b4\"/>\n     <use xlink:href=\"#mc81277f250\" x=\"133.059389\" y=\"82.073972\" style=\"fill: #1f77b4; stroke: #1f77b4\"/>\n     <use xlink:href=\"#mc81277f250\" x=\"92.923521\" y=\"57.12813\" style=\"fill: #1f77b4; stroke: #1f77b4\"/>\n     <use xlink:href=\"#mc81277f250\" x=\"120.556294\" y=\"73.222876\" style=\"fill: #1f77b4; stroke: #1f77b4\"/>\n     <use xlink:href=\"#mc81277f250\" x=\"134.385684\" y=\"88.023281\" style=\"fill: #1f77b4; stroke: #1f77b4\"/>\n     <use xlink:href=\"#mc81277f250\" x=\"126.712248\" y=\"59.082034\" style=\"fill: #1f77b4; stroke: #1f77b4\"/>\n     <use xlink:href=\"#mc81277f250\" x=\"119.969538\" y=\"81.284492\" style=\"fill: #1f77b4; stroke: #1f77b4\"/>\n     <use xlink:href=\"#mc81277f250\" x=\"140.588468\" y=\"82.881438\" style=\"fill: #1f77b4; stroke: #1f77b4\"/>\n     <use xlink:href=\"#mc81277f250\" x=\"123.455173\" y=\"91.482691\" style=\"fill: #1f77b4; stroke: #1f77b4\"/>\n     <use xlink:href=\"#mc81277f250\" x=\"132.061399\" y=\"73.849765\" style=\"fill: #1f77b4; stroke: #1f77b4\"/>\n     <use xlink:href=\"#mc81277f250\" x=\"128.09045\" y=\"81.721723\" style=\"fill: #1f77b4; stroke: #1f77b4\"/>\n     <use xlink:href=\"#mc81277f250\" x=\"77.237887\" y=\"45.599037\" style=\"fill: #1f77b4; stroke: #1f77b4\"/>\n     <use xlink:href=\"#mc81277f250\" x=\"177.402638\" y=\"123.162158\" style=\"fill: #1f77b4; stroke: #1f77b4\"/>\n     <use xlink:href=\"#mc81277f250\" x=\"119.485482\" y=\"89.560062\" style=\"fill: #1f77b4; stroke: #1f77b4\"/>\n     <use xlink:href=\"#mc81277f250\" x=\"61.153909\" y=\"40.161133\" style=\"fill: #1f77b4; stroke: #1f77b4\"/>\n     <use xlink:href=\"#mc81277f250\" x=\"160.960618\" y=\"117.072412\" style=\"fill: #1f77b4; stroke: #1f77b4\"/>\n     <use xlink:href=\"#mc81277f250\" x=\"120.399216\" y=\"86.634841\" style=\"fill: #1f77b4; stroke: #1f77b4\"/>\n     <use xlink:href=\"#mc81277f250\" x=\"124.155359\" y=\"54.102118\" style=\"fill: #1f77b4; stroke: #1f77b4\"/>\n     <use xlink:href=\"#mc81277f250\" x=\"117.904037\" y=\"84.111969\" style=\"fill: #1f77b4; stroke: #1f77b4\"/>\n     <use xlink:href=\"#mc81277f250\" x=\"126.567945\" y=\"87.332205\" style=\"fill: #1f77b4; stroke: #1f77b4\"/>\n     <use xlink:href=\"#mc81277f250\" x=\"135.009891\" y=\"92.607855\" style=\"fill: #1f77b4; stroke: #1f77b4\"/>\n     <use xlink:href=\"#mc81277f250\" x=\"94.429287\" y=\"65.296177\" style=\"fill: #1f77b4; stroke: #1f77b4\"/>\n     <use xlink:href=\"#mc81277f250\" x=\"145.729147\" y=\"87.784031\" style=\"fill: #1f77b4; stroke: #1f77b4\"/>\n     <use xlink:href=\"#mc81277f250\" x=\"178.469802\" y=\"98.837829\" style=\"fill: #1f77b4; stroke: #1f77b4\"/>\n     <use xlink:href=\"#mc81277f250\" x=\"150.501094\" y=\"92.382979\" style=\"fill: #1f77b4; stroke: #1f77b4\"/>\n     <use xlink:href=\"#mc81277f250\" x=\"150.154068\" y=\"99.896385\" style=\"fill: #1f77b4; stroke: #1f77b4\"/>\n     <use xlink:href=\"#mc81277f250\" x=\"142.181585\" y=\"91.865109\" style=\"fill: #1f77b4; stroke: #1f77b4\"/>\n     <use xlink:href=\"#mc81277f250\" x=\"101.942888\" y=\"74.571994\" style=\"fill: #1f77b4; stroke: #1f77b4\"/>\n     <use xlink:href=\"#mc81277f250\" x=\"165.596292\" y=\"101.580802\" style=\"fill: #1f77b4; stroke: #1f77b4\"/>\n     <use xlink:href=\"#mc81277f250\" x=\"134.040702\" y=\"75.99579\" style=\"fill: #1f77b4; stroke: #1f77b4\"/>\n     <use xlink:href=\"#mc81277f250\" x=\"146.303907\" y=\"96.487639\" style=\"fill: #1f77b4; stroke: #1f77b4\"/>\n     <use xlink:href=\"#mc81277f250\" x=\"193.511293\" y=\"116.266108\" style=\"fill: #1f77b4; stroke: #1f77b4\"/>\n     <use xlink:href=\"#mc81277f250\" x=\"99.7868\" y=\"67.914794\" style=\"fill: #1f77b4; stroke: #1f77b4\"/>\n     <use xlink:href=\"#mc81277f250\" x=\"162.631442\" y=\"97.999311\" style=\"fill: #1f77b4; stroke: #1f77b4\"/>\n     <use xlink:href=\"#mc81277f250\" x=\"140.640122\" y=\"93.547246\" style=\"fill: #1f77b4; stroke: #1f77b4\"/>\n     <use xlink:href=\"#mc81277f250\" x=\"105.623126\" y=\"65.068022\" style=\"fill: #1f77b4; stroke: #1f77b4\"/>\n     <use xlink:href=\"#mc81277f250\" x=\"115.590806\" y=\"70.697195\" style=\"fill: #1f77b4; stroke: #1f77b4\"/>\n     <use xlink:href=\"#mc81277f250\" x=\"116.028687\" y=\"78.349776\" style=\"fill: #1f77b4; stroke: #1f77b4\"/>\n     <use xlink:href=\"#mc81277f250\" x=\"143.156738\" y=\"87.901308\" style=\"fill: #1f77b4; stroke: #1f77b4\"/>\n     <use xlink:href=\"#mc81277f250\" x=\"167.876105\" y=\"108.423165\" style=\"fill: #1f77b4; stroke: #1f77b4\"/>\n     <use xlink:href=\"#mc81277f250\" x=\"121.684924\" y=\"71.837239\" style=\"fill: #1f77b4; stroke: #1f77b4\"/>\n     <use xlink:href=\"#mc81277f250\" x=\"87.983928\" y=\"51.607101\" style=\"fill: #1f77b4; stroke: #1f77b4\"/>\n     <use xlink:href=\"#mc81277f250\" x=\"129.372035\" y=\"72.794651\" style=\"fill: #1f77b4; stroke: #1f77b4\"/>\n     <use xlink:href=\"#mc81277f250\" x=\"127.330544\" y=\"88.757559\" style=\"fill: #1f77b4; stroke: #1f77b4\"/>\n     <use xlink:href=\"#mc81277f250\" x=\"97.905165\" y=\"65.239786\" style=\"fill: #1f77b4; stroke: #1f77b4\"/>\n     <use xlink:href=\"#mc81277f250\" x=\"108.303695\" y=\"61.530413\" style=\"fill: #1f77b4; stroke: #1f77b4\"/>\n     <use xlink:href=\"#mc81277f250\" x=\"159.062995\" y=\"99.692604\" style=\"fill: #1f77b4; stroke: #1f77b4\"/>\n     <use xlink:href=\"#mc81277f250\" x=\"134.323199\" y=\"89.059052\" style=\"fill: #1f77b4; stroke: #1f77b4\"/>\n     <use xlink:href=\"#mc81277f250\" x=\"124.220807\" y=\"70.154096\" style=\"fill: #1f77b4; stroke: #1f77b4\"/>\n     <use xlink:href=\"#mc81277f250\" x=\"176.794135\" y=\"125.892739\" style=\"fill: #1f77b4; stroke: #1f77b4\"/>\n     <use xlink:href=\"#mc81277f250\" x=\"108.188299\" y=\"77.114892\" style=\"fill: #1f77b4; stroke: #1f77b4\"/>\n     <use xlink:href=\"#mc81277f250\" x=\"122.827455\" y=\"62.635499\" style=\"fill: #1f77b4; stroke: #1f77b4\"/>\n     <use xlink:href=\"#mc81277f250\" x=\"119.450404\" y=\"74.136989\" style=\"fill: #1f77b4; stroke: #1f77b4\"/>\n     <use xlink:href=\"#mc81277f250\" x=\"145.962456\" y=\"81.994014\" style=\"fill: #1f77b4; stroke: #1f77b4\"/>\n     <use xlink:href=\"#mc81277f250\" x=\"100.946981\" y=\"58.011687\" style=\"fill: #1f77b4; stroke: #1f77b4\"/>\n     <use xlink:href=\"#mc81277f250\" x=\"115.669284\" y=\"80.714497\" style=\"fill: #1f77b4; stroke: #1f77b4\"/>\n     <use xlink:href=\"#mc81277f250\" x=\"126.977738\" y=\"79.451955\" style=\"fill: #1f77b4; stroke: #1f77b4\"/>\n     <use xlink:href=\"#mc81277f250\" x=\"126.822612\" y=\"96.921302\" style=\"fill: #1f77b4; stroke: #1f77b4\"/>\n     <use xlink:href=\"#mc81277f250\" x=\"158.567113\" y=\"88.220597\" style=\"fill: #1f77b4; stroke: #1f77b4\"/>\n     <use xlink:href=\"#mc81277f250\" x=\"113.70111\" y=\"86.30135\" style=\"fill: #1f77b4; stroke: #1f77b4\"/>\n     <use xlink:href=\"#mc81277f250\" x=\"135.241415\" y=\"87.414692\" style=\"fill: #1f77b4; stroke: #1f77b4\"/>\n     <use xlink:href=\"#mc81277f250\" x=\"107.42615\" y=\"70.460884\" style=\"fill: #1f77b4; stroke: #1f77b4\"/>\n     <use xlink:href=\"#mc81277f250\" x=\"116.176292\" y=\"75.816135\" style=\"fill: #1f77b4; stroke: #1f77b4\"/>\n     <use xlink:href=\"#mc81277f250\" x=\"128.519636\" y=\"82.820824\" style=\"fill: #1f77b4; stroke: #1f77b4\"/>\n     <use xlink:href=\"#mc81277f250\" x=\"166.988818\" y=\"105.580224\" style=\"fill: #1f77b4; stroke: #1f77b4\"/>\n     <use xlink:href=\"#mc81277f250\" x=\"150.167496\" y=\"99.590286\" style=\"fill: #1f77b4; stroke: #1f77b4\"/>\n     <use xlink:href=\"#mc81277f250\" x=\"93.237608\" y=\"51.432024\" style=\"fill: #1f77b4; stroke: #1f77b4\"/>\n     <use xlink:href=\"#mc81277f250\" x=\"125.27183\" y=\"84.614193\" style=\"fill: #1f77b4; stroke: #1f77b4\"/>\n     <use xlink:href=\"#mc81277f250\" x=\"126.582192\" y=\"85.378476\" style=\"fill: #1f77b4; stroke: #1f77b4\"/>\n     <use xlink:href=\"#mc81277f250\" x=\"149.172686\" y=\"97.215024\" style=\"fill: #1f77b4; stroke: #1f77b4\"/>\n     <use xlink:href=\"#mc81277f250\" x=\"129.887272\" y=\"86.770087\" style=\"fill: #1f77b4; stroke: #1f77b4\"/>\n     <use xlink:href=\"#mc81277f250\" x=\"67.221009\" y=\"34.64995\" style=\"fill: #1f77b4; stroke: #1f77b4\"/>\n     <use xlink:href=\"#mc81277f250\" x=\"143.768188\" y=\"113.405923\" style=\"fill: #1f77b4; stroke: #1f77b4\"/>\n     <use xlink:href=\"#mc81277f250\" x=\"117.076057\" y=\"80.095057\" style=\"fill: #1f77b4; stroke: #1f77b4\"/>\n     <use xlink:href=\"#mc81277f250\" x=\"120.231305\" y=\"89.651775\" style=\"fill: #1f77b4; stroke: #1f77b4\"/>\n     <use xlink:href=\"#mc81277f250\" x=\"99.649776\" y=\"60.409553\" style=\"fill: #1f77b4; stroke: #1f77b4\"/>\n     <use xlink:href=\"#mc81277f250\" x=\"117.379744\" y=\"82.93509\" style=\"fill: #1f77b4; stroke: #1f77b4\"/>\n     <use xlink:href=\"#mc81277f250\" x=\"98.191949\" y=\"61.508815\" style=\"fill: #1f77b4; stroke: #1f77b4\"/>\n     <use xlink:href=\"#mc81277f250\" x=\"130.107459\" y=\"90.112884\" style=\"fill: #1f77b4; stroke: #1f77b4\"/>\n     <use xlink:href=\"#mc81277f250\" x=\"100.271308\" y=\"69.790971\" style=\"fill: #1f77b4; stroke: #1f77b4\"/>\n     <use xlink:href=\"#mc81277f250\" x=\"142.607194\" y=\"93.222503\" style=\"fill: #1f77b4; stroke: #1f77b4\"/>\n     <use xlink:href=\"#mc81277f250\" x=\"134.429398\" y=\"92.337138\" style=\"fill: #1f77b4; stroke: #1f77b4\"/>\n     <use xlink:href=\"#mc81277f250\" x=\"130.125624\" y=\"89.681767\" style=\"fill: #1f77b4; stroke: #1f77b4\"/>\n     <use xlink:href=\"#mc81277f250\" x=\"91.068583\" y=\"61.067084\" style=\"fill: #1f77b4; stroke: #1f77b4\"/>\n     <use xlink:href=\"#mc81277f250\" x=\"184.540507\" y=\"107.006131\" style=\"fill: #1f77b4; stroke: #1f77b4\"/>\n     <use xlink:href=\"#mc81277f250\" x=\"182.924741\" y=\"108.49771\" style=\"fill: #1f77b4; stroke: #1f77b4\"/>\n     <use xlink:href=\"#mc81277f250\" x=\"146.800753\" y=\"99.861265\" style=\"fill: #1f77b4; stroke: #1f77b4\"/>\n     <use xlink:href=\"#mc81277f250\" x=\"115.615099\" y=\"70.844322\" style=\"fill: #1f77b4; stroke: #1f77b4\"/>\n     <use xlink:href=\"#mc81277f250\" x=\"120.084854\" y=\"87.609983\" style=\"fill: #1f77b4; stroke: #1f77b4\"/>\n     <use xlink:href=\"#mc81277f250\" x=\"114.691735\" y=\"86.872295\" style=\"fill: #1f77b4; stroke: #1f77b4\"/>\n     <use xlink:href=\"#mc81277f250\" x=\"117.422805\" y=\"65.03906\" style=\"fill: #1f77b4; stroke: #1f77b4\"/>\n     <use xlink:href=\"#mc81277f250\" x=\"137.972617\" y=\"90.847456\" style=\"fill: #1f77b4; stroke: #1f77b4\"/>\n     <use xlink:href=\"#mc81277f250\" x=\"115.334579\" y=\"61.04096\" style=\"fill: #1f77b4; stroke: #1f77b4\"/>\n     <use xlink:href=\"#mc81277f250\" x=\"61.484455\" y=\"54.553612\" style=\"fill: #1f77b4; stroke: #1f77b4\"/>\n     <use xlink:href=\"#mc81277f250\" x=\"127.708749\" y=\"88.573602\" style=\"fill: #1f77b4; stroke: #1f77b4\"/>\n     <use xlink:href=\"#mc81277f250\" x=\"141.475173\" y=\"93.263404\" style=\"fill: #1f77b4; stroke: #1f77b4\"/>\n     <use xlink:href=\"#mc81277f250\" x=\"145.243448\" y=\"95.273903\" style=\"fill: #1f77b4; stroke: #1f77b4\"/>\n     <use xlink:href=\"#mc81277f250\" x=\"142.726662\" y=\"84.787408\" style=\"fill: #1f77b4; stroke: #1f77b4\"/>\n     <use xlink:href=\"#mc81277f250\" x=\"76.974006\" y=\"52.916072\" style=\"fill: #1f77b4; stroke: #1f77b4\"/>\n     <use xlink:href=\"#mc81277f250\" x=\"118.668898\" y=\"75.802375\" style=\"fill: #1f77b4; stroke: #1f77b4\"/>\n     <use xlink:href=\"#mc81277f250\" x=\"131.540106\" y=\"80.399611\" style=\"fill: #1f77b4; stroke: #1f77b4\"/>\n     <use xlink:href=\"#mc81277f250\" x=\"153.051008\" y=\"92.154171\" style=\"fill: #1f77b4; stroke: #1f77b4\"/>\n     <use xlink:href=\"#mc81277f250\" x=\"110.038307\" y=\"76.861283\" style=\"fill: #1f77b4; stroke: #1f77b4\"/>\n     <use xlink:href=\"#mc81277f250\" x=\"154.683769\" y=\"102.540807\" style=\"fill: #1f77b4; stroke: #1f77b4\"/>\n     <use xlink:href=\"#mc81277f250\" x=\"175.995676\" y=\"98.394959\" style=\"fill: #1f77b4; stroke: #1f77b4\"/>\n     <use xlink:href=\"#mc81277f250\" x=\"138.777667\" y=\"79.037659\" style=\"fill: #1f77b4; stroke: #1f77b4\"/>\n     <use xlink:href=\"#mc81277f250\" x=\"100.737001\" y=\"72.725089\" style=\"fill: #1f77b4; stroke: #1f77b4\"/>\n     <use xlink:href=\"#mc81277f250\" x=\"146.017585\" y=\"93.715793\" style=\"fill: #1f77b4; stroke: #1f77b4\"/>\n     <use xlink:href=\"#mc81277f250\" x=\"145.870716\" y=\"87.354012\" style=\"fill: #1f77b4; stroke: #1f77b4\"/>\n     <use xlink:href=\"#mc81277f250\" x=\"82.140315\" y=\"46.947807\" style=\"fill: #1f77b4; stroke: #1f77b4\"/>\n     <use xlink:href=\"#mc81277f250\" x=\"118.253484\" y=\"82.626455\" style=\"fill: #1f77b4; stroke: #1f77b4\"/>\n     <use xlink:href=\"#mc81277f250\" x=\"175.137644\" y=\"113.063729\" style=\"fill: #1f77b4; stroke: #1f77b4\"/>\n     <use xlink:href=\"#mc81277f250\" x=\"109.267617\" y=\"87.789117\" style=\"fill: #1f77b4; stroke: #1f77b4\"/>\n     <use xlink:href=\"#mc81277f250\" x=\"130.741566\" y=\"83.552324\" style=\"fill: #1f77b4; stroke: #1f77b4\"/>\n     <use xlink:href=\"#mc81277f250\" x=\"132.493012\" y=\"74.740876\" style=\"fill: #1f77b4; stroke: #1f77b4\"/>\n     <use xlink:href=\"#mc81277f250\" x=\"73.05781\" y=\"50.614926\" style=\"fill: #1f77b4; stroke: #1f77b4\"/>\n     <use xlink:href=\"#mc81277f250\" x=\"76.610303\" y=\"58.871463\" style=\"fill: #1f77b4; stroke: #1f77b4\"/>\n     <use xlink:href=\"#mc81277f250\" x=\"80.204784\" y=\"51.760581\" style=\"fill: #1f77b4; stroke: #1f77b4\"/>\n     <use xlink:href=\"#mc81277f250\" x=\"65.568255\" y=\"40.364922\" style=\"fill: #1f77b4; stroke: #1f77b4\"/>\n     <use xlink:href=\"#mc81277f250\" x=\"132.712095\" y=\"95.089053\" style=\"fill: #1f77b4; stroke: #1f77b4\"/>\n     <use xlink:href=\"#mc81277f250\" x=\"123.086929\" y=\"65.509827\" style=\"fill: #1f77b4; stroke: #1f77b4\"/>\n     <use xlink:href=\"#mc81277f250\" x=\"118.176725\" y=\"60.724238\" style=\"fill: #1f77b4; stroke: #1f77b4\"/>\n     <use xlink:href=\"#mc81277f250\" x=\"139.168212\" y=\"91.433143\" style=\"fill: #1f77b4; stroke: #1f77b4\"/>\n     <use xlink:href=\"#mc81277f250\" x=\"119.688218\" y=\"87.961376\" style=\"fill: #1f77b4; stroke: #1f77b4\"/>\n     <use xlink:href=\"#mc81277f250\" x=\"146.502216\" y=\"100.459978\" style=\"fill: #1f77b4; stroke: #1f77b4\"/>\n     <use xlink:href=\"#mc81277f250\" x=\"111.183637\" y=\"76.672395\" style=\"fill: #1f77b4; stroke: #1f77b4\"/>\n     <use xlink:href=\"#mc81277f250\" x=\"102.658402\" y=\"67.64098\" style=\"fill: #1f77b4; stroke: #1f77b4\"/>\n     <use xlink:href=\"#mc81277f250\" x=\"144.166627\" y=\"100.592616\" style=\"fill: #1f77b4; stroke: #1f77b4\"/>\n     <use xlink:href=\"#mc81277f250\" x=\"201.949213\" y=\"143.235475\" style=\"fill: #1f77b4; stroke: #1f77b4\"/>\n     <use xlink:href=\"#mc81277f250\" x=\"126.364734\" y=\"78.683087\" style=\"fill: #1f77b4; stroke: #1f77b4\"/>\n     <use xlink:href=\"#mc81277f250\" x=\"102.682317\" y=\"62.043137\" style=\"fill: #1f77b4; stroke: #1f77b4\"/>\n     <use xlink:href=\"#mc81277f250\" x=\"116.569332\" y=\"90.455361\" style=\"fill: #1f77b4; stroke: #1f77b4\"/>\n     <use xlink:href=\"#mc81277f250\" x=\"136.682219\" y=\"80.193157\" style=\"fill: #1f77b4; stroke: #1f77b4\"/>\n     <use xlink:href=\"#mc81277f250\" x=\"137.922163\" y=\"93.957765\" style=\"fill: #1f77b4; stroke: #1f77b4\"/>\n     <use xlink:href=\"#mc81277f250\" x=\"133.046624\" y=\"88.301077\" style=\"fill: #1f77b4; stroke: #1f77b4\"/>\n     <use xlink:href=\"#mc81277f250\" x=\"112.656856\" y=\"61.654248\" style=\"fill: #1f77b4; stroke: #1f77b4\"/>\n     <use xlink:href=\"#mc81277f250\" x=\"170.75607\" y=\"129.389798\" style=\"fill: #1f77b4; stroke: #1f77b4\"/>\n     <use xlink:href=\"#mc81277f250\" x=\"158.096985\" y=\"107.181698\" style=\"fill: #1f77b4; stroke: #1f77b4\"/>\n     <use xlink:href=\"#mc81277f250\" x=\"112.947074\" y=\"88.44798\" style=\"fill: #1f77b4; stroke: #1f77b4\"/>\n     <use xlink:href=\"#mc81277f250\" x=\"116.727941\" y=\"78.171302\" style=\"fill: #1f77b4; stroke: #1f77b4\"/>\n     <use xlink:href=\"#mc81277f250\" x=\"146.223762\" y=\"89.190512\" style=\"fill: #1f77b4; stroke: #1f77b4\"/>\n     <use xlink:href=\"#mc81277f250\" x=\"135.630581\" y=\"102.91455\" style=\"fill: #1f77b4; stroke: #1f77b4\"/>\n     <use xlink:href=\"#mc81277f250\" x=\"130.926668\" y=\"92.895814\" style=\"fill: #1f77b4; stroke: #1f77b4\"/>\n     <use xlink:href=\"#mc81277f250\" x=\"157.945168\" y=\"114.546536\" style=\"fill: #1f77b4; stroke: #1f77b4\"/>\n     <use xlink:href=\"#mc81277f250\" x=\"140.338846\" y=\"95.603823\" style=\"fill: #1f77b4; stroke: #1f77b4\"/>\n     <use xlink:href=\"#mc81277f250\" x=\"62.219508\" y=\"25.524577\" style=\"fill: #1f77b4; stroke: #1f77b4\"/>\n     <use xlink:href=\"#mc81277f250\" x=\"149.08968\" y=\"103.896948\" style=\"fill: #1f77b4; stroke: #1f77b4\"/>\n     <use xlink:href=\"#mc81277f250\" x=\"121.854981\" y=\"78.135406\" style=\"fill: #1f77b4; stroke: #1f77b4\"/>\n     <use xlink:href=\"#mc81277f250\" x=\"77.800547\" y=\"51.686594\" style=\"fill: #1f77b4; stroke: #1f77b4\"/>\n     <use xlink:href=\"#mc81277f250\" x=\"91.493512\" y=\"56.9173\" style=\"fill: #1f77b4; stroke: #1f77b4\"/>\n     <use xlink:href=\"#mc81277f250\" x=\"115.627891\" y=\"77.034\" style=\"fill: #1f77b4; stroke: #1f77b4\"/>\n     <use xlink:href=\"#mc81277f250\" x=\"119.126684\" y=\"86.704145\" style=\"fill: #1f77b4; stroke: #1f77b4\"/>\n     <use xlink:href=\"#mc81277f250\" x=\"89.834393\" y=\"55.045511\" style=\"fill: #1f77b4; stroke: #1f77b4\"/>\n     <use xlink:href=\"#mc81277f250\" x=\"112.946299\" y=\"86.944819\" style=\"fill: #1f77b4; stroke: #1f77b4\"/>\n     <use xlink:href=\"#mc81277f250\" x=\"182.929783\" y=\"100.729777\" style=\"fill: #1f77b4; stroke: #1f77b4\"/>\n     <use xlink:href=\"#mc81277f250\" x=\"90.469636\" y=\"56.981226\" style=\"fill: #1f77b4; stroke: #1f77b4\"/>\n     <use xlink:href=\"#mc81277f250\" x=\"129.018803\" y=\"71.103328\" style=\"fill: #1f77b4; stroke: #1f77b4\"/>\n     <use xlink:href=\"#mc81277f250\" x=\"95.323304\" y=\"68.515382\" style=\"fill: #1f77b4; stroke: #1f77b4\"/>\n     <use xlink:href=\"#mc81277f250\" x=\"139.426099\" y=\"96.273416\" style=\"fill: #1f77b4; stroke: #1f77b4\"/>\n     <use xlink:href=\"#mc81277f250\" x=\"95.795489\" y=\"66.137425\" style=\"fill: #1f77b4; stroke: #1f77b4\"/>\n     <use xlink:href=\"#mc81277f250\" x=\"64.475379\" y=\"38.148281\" style=\"fill: #1f77b4; stroke: #1f77b4\"/>\n     <use xlink:href=\"#mc81277f250\" x=\"108.812871\" y=\"71.497976\" style=\"fill: #1f77b4; stroke: #1f77b4\"/>\n     <use xlink:href=\"#mc81277f250\" x=\"154.205094\" y=\"101.046939\" style=\"fill: #1f77b4; stroke: #1f77b4\"/>\n     <use xlink:href=\"#mc81277f250\" x=\"149.098653\" y=\"78.268884\" style=\"fill: #1f77b4; stroke: #1f77b4\"/>\n     <use xlink:href=\"#mc81277f250\" x=\"140.705538\" y=\"85.554385\" style=\"fill: #1f77b4; stroke: #1f77b4\"/>\n     <use xlink:href=\"#mc81277f250\" x=\"134.424213\" y=\"84.042695\" style=\"fill: #1f77b4; stroke: #1f77b4\"/>\n     <use xlink:href=\"#mc81277f250\" x=\"111.393259\" y=\"75.145503\" style=\"fill: #1f77b4; stroke: #1f77b4\"/>\n     <use xlink:href=\"#mc81277f250\" x=\"122.577683\" y=\"87.445892\" style=\"fill: #1f77b4; stroke: #1f77b4\"/>\n     <use xlink:href=\"#mc81277f250\" x=\"109.752135\" y=\"59.553185\" style=\"fill: #1f77b4; stroke: #1f77b4\"/>\n     <use xlink:href=\"#mc81277f250\" x=\"198.658477\" y=\"106.199511\" style=\"fill: #1f77b4; stroke: #1f77b4\"/>\n     <use xlink:href=\"#mc81277f250\" x=\"131.496167\" y=\"83.291226\" style=\"fill: #1f77b4; stroke: #1f77b4\"/>\n     <use xlink:href=\"#mc81277f250\" x=\"151.24407\" y=\"103.568419\" style=\"fill: #1f77b4; stroke: #1f77b4\"/>\n     <use xlink:href=\"#mc81277f250\" x=\"176.726817\" y=\"112.782744\" style=\"fill: #1f77b4; stroke: #1f77b4\"/>\n     <use xlink:href=\"#mc81277f250\" x=\"165.627768\" y=\"103.446332\" style=\"fill: #1f77b4; stroke: #1f77b4\"/>\n     <use xlink:href=\"#mc81277f250\" x=\"122.765828\" y=\"93.254553\" style=\"fill: #1f77b4; stroke: #1f77b4\"/>\n     <use xlink:href=\"#mc81277f250\" x=\"180.993516\" y=\"118.420629\" style=\"fill: #1f77b4; stroke: #1f77b4\"/>\n     <use xlink:href=\"#mc81277f250\" x=\"161.860335\" y=\"118.716733\" style=\"fill: #1f77b4; stroke: #1f77b4\"/>\n     <use xlink:href=\"#mc81277f250\" x=\"89.626085\" y=\"52.938127\" style=\"fill: #1f77b4; stroke: #1f77b4\"/>\n     <use xlink:href=\"#mc81277f250\" x=\"114.382\" y=\"77.946517\" style=\"fill: #1f77b4; stroke: #1f77b4\"/>\n     <use xlink:href=\"#mc81277f250\" x=\"117.882767\" y=\"64.813319\" style=\"fill: #1f77b4; stroke: #1f77b4\"/>\n     <use xlink:href=\"#mc81277f250\" x=\"91.399814\" y=\"68.276752\" style=\"fill: #1f77b4; stroke: #1f77b4\"/>\n     <use xlink:href=\"#mc81277f250\" x=\"155.516935\" y=\"87.874791\" style=\"fill: #1f77b4; stroke: #1f77b4\"/>\n     <use xlink:href=\"#mc81277f250\" x=\"128.883644\" y=\"95.235289\" style=\"fill: #1f77b4; stroke: #1f77b4\"/>\n     <use xlink:href=\"#mc81277f250\" x=\"102.233372\" y=\"73.508379\" style=\"fill: #1f77b4; stroke: #1f77b4\"/>\n     <use xlink:href=\"#mc81277f250\" x=\"134.073924\" y=\"76.071132\" style=\"fill: #1f77b4; stroke: #1f77b4\"/>\n     <use xlink:href=\"#mc81277f250\" x=\"141.97117\" y=\"98.016738\" style=\"fill: #1f77b4; stroke: #1f77b4\"/>\n     <use xlink:href=\"#mc81277f250\" x=\"136.163153\" y=\"100.113878\" style=\"fill: #1f77b4; stroke: #1f77b4\"/>\n     <use xlink:href=\"#mc81277f250\" x=\"143.717931\" y=\"85.310254\" style=\"fill: #1f77b4; stroke: #1f77b4\"/>\n     <use xlink:href=\"#mc81277f250\" x=\"141.69012\" y=\"89.18706\" style=\"fill: #1f77b4; stroke: #1f77b4\"/>\n     <use xlink:href=\"#mc81277f250\" x=\"138.685487\" y=\"76.021005\" style=\"fill: #1f77b4; stroke: #1f77b4\"/>\n     <use xlink:href=\"#mc81277f250\" x=\"138.370475\" y=\"87.038891\" style=\"fill: #1f77b4; stroke: #1f77b4\"/>\n     <use xlink:href=\"#mc81277f250\" x=\"147.422822\" y=\"81.530014\" style=\"fill: #1f77b4; stroke: #1f77b4\"/>\n     <use xlink:href=\"#mc81277f250\" x=\"47.250753\" y=\"17.235475\" style=\"fill: #1f77b4; stroke: #1f77b4\"/>\n     <use xlink:href=\"#mc81277f250\" x=\"141.592669\" y=\"90.938456\" style=\"fill: #1f77b4; stroke: #1f77b4\"/>\n     <use xlink:href=\"#mc81277f250\" x=\"125.069722\" y=\"104.140507\" style=\"fill: #1f77b4; stroke: #1f77b4\"/>\n     <use xlink:href=\"#mc81277f250\" x=\"157.08128\" y=\"97.553846\" style=\"fill: #1f77b4; stroke: #1f77b4\"/>\n     <use xlink:href=\"#mc81277f250\" x=\"105.435125\" y=\"87.135273\" style=\"fill: #1f77b4; stroke: #1f77b4\"/>\n     <use xlink:href=\"#mc81277f250\" x=\"97.801253\" y=\"62.580168\" style=\"fill: #1f77b4; stroke: #1f77b4\"/>\n     <use xlink:href=\"#mc81277f250\" x=\"130.824171\" y=\"86.264024\" style=\"fill: #1f77b4; stroke: #1f77b4\"/>\n     <use xlink:href=\"#mc81277f250\" x=\"182.357273\" y=\"116.139722\" style=\"fill: #1f77b4; stroke: #1f77b4\"/>\n     <use xlink:href=\"#mc81277f250\" x=\"121.170533\" y=\"81.697217\" style=\"fill: #1f77b4; stroke: #1f77b4\"/>\n     <use xlink:href=\"#mc81277f250\" x=\"125.415977\" y=\"84.807202\" style=\"fill: #1f77b4; stroke: #1f77b4\"/>\n     <use xlink:href=\"#mc81277f250\" x=\"147.519239\" y=\"102.110889\" style=\"fill: #1f77b4; stroke: #1f77b4\"/>\n     <use xlink:href=\"#mc81277f250\" x=\"135.947657\" y=\"92.740908\" style=\"fill: #1f77b4; stroke: #1f77b4\"/>\n     <use xlink:href=\"#mc81277f250\" x=\"138.616071\" y=\"96.013619\" style=\"fill: #1f77b4; stroke: #1f77b4\"/>\n     <use xlink:href=\"#mc81277f250\" x=\"114.155538\" y=\"58.601047\" style=\"fill: #1f77b4; stroke: #1f77b4\"/>\n     <use xlink:href=\"#mc81277f250\" x=\"181.121717\" y=\"114.032212\" style=\"fill: #1f77b4; stroke: #1f77b4\"/>\n     <use xlink:href=\"#mc81277f250\" x=\"165.744566\" y=\"107.482774\" style=\"fill: #1f77b4; stroke: #1f77b4\"/>\n     <use xlink:href=\"#mc81277f250\" x=\"146.537774\" y=\"111.97114\" style=\"fill: #1f77b4; stroke: #1f77b4\"/>\n     <use xlink:href=\"#mc81277f250\" x=\"73.725454\" y=\"49.382207\" style=\"fill: #1f77b4; stroke: #1f77b4\"/>\n     <use xlink:href=\"#mc81277f250\" x=\"102.980603\" y=\"54.755784\" style=\"fill: #1f77b4; stroke: #1f77b4\"/>\n     <use xlink:href=\"#mc81277f250\" x=\"123.164024\" y=\"83.88067\" style=\"fill: #1f77b4; stroke: #1f77b4\"/>\n     <use xlink:href=\"#mc81277f250\" x=\"150.869698\" y=\"109.295823\" style=\"fill: #1f77b4; stroke: #1f77b4\"/>\n     <use xlink:href=\"#mc81277f250\" x=\"157.728348\" y=\"95.775404\" style=\"fill: #1f77b4; stroke: #1f77b4\"/>\n     <use xlink:href=\"#mc81277f250\" x=\"179.796506\" y=\"104.142824\" style=\"fill: #1f77b4; stroke: #1f77b4\"/>\n     <use xlink:href=\"#mc81277f250\" x=\"119.885627\" y=\"88.555968\" style=\"fill: #1f77b4; stroke: #1f77b4\"/>\n     <use xlink:href=\"#mc81277f250\" x=\"139.121185\" y=\"86.696567\" style=\"fill: #1f77b4; stroke: #1f77b4\"/>\n     <use xlink:href=\"#mc81277f250\" x=\"94.825892\" y=\"59.807957\" style=\"fill: #1f77b4; stroke: #1f77b4\"/>\n     <use xlink:href=\"#mc81277f250\" x=\"113.253749\" y=\"83.663831\" style=\"fill: #1f77b4; stroke: #1f77b4\"/>\n     <use xlink:href=\"#mc81277f250\" x=\"155.880348\" y=\"95.641704\" style=\"fill: #1f77b4; stroke: #1f77b4\"/>\n     <use xlink:href=\"#mc81277f250\" x=\"123.20915\" y=\"79.270156\" style=\"fill: #1f77b4; stroke: #1f77b4\"/>\n     <use xlink:href=\"#mc81277f250\" x=\"107.247873\" y=\"79.336367\" style=\"fill: #1f77b4; stroke: #1f77b4\"/>\n     <use xlink:href=\"#mc81277f250\" x=\"106.263217\" y=\"79.086183\" style=\"fill: #1f77b4; stroke: #1f77b4\"/>\n     <use xlink:href=\"#mc81277f250\" x=\"122.162202\" y=\"86.244943\" style=\"fill: #1f77b4; stroke: #1f77b4\"/>\n     <use xlink:href=\"#mc81277f250\" x=\"77.744189\" y=\"69.608717\" style=\"fill: #1f77b4; stroke: #1f77b4\"/>\n     <use xlink:href=\"#mc81277f250\" x=\"130.618119\" y=\"87.240485\" style=\"fill: #1f77b4; stroke: #1f77b4\"/>\n     <use xlink:href=\"#mc81277f250\" x=\"137.452572\" y=\"87.818444\" style=\"fill: #1f77b4; stroke: #1f77b4\"/>\n     <use xlink:href=\"#mc81277f250\" x=\"122.883476\" y=\"86.756451\" style=\"fill: #1f77b4; stroke: #1f77b4\"/>\n     <use xlink:href=\"#mc81277f250\" x=\"70.377777\" y=\"36.766001\" style=\"fill: #1f77b4; stroke: #1f77b4\"/>\n     <use xlink:href=\"#mc81277f250\" x=\"127.933571\" y=\"92.590276\" style=\"fill: #1f77b4; stroke: #1f77b4\"/>\n     <use xlink:href=\"#mc81277f250\" x=\"111.189064\" y=\"67.105673\" style=\"fill: #1f77b4; stroke: #1f77b4\"/>\n     <use xlink:href=\"#mc81277f250\" x=\"143.632062\" y=\"96.877337\" style=\"fill: #1f77b4; stroke: #1f77b4\"/>\n     <use xlink:href=\"#mc81277f250\" x=\"117.640967\" y=\"72.168423\" style=\"fill: #1f77b4; stroke: #1f77b4\"/>\n     <use xlink:href=\"#mc81277f250\" x=\"129.20196\" y=\"83.102015\" style=\"fill: #1f77b4; stroke: #1f77b4\"/>\n     <use xlink:href=\"#mc81277f250\" x=\"163.126251\" y=\"104.876941\" style=\"fill: #1f77b4; stroke: #1f77b4\"/>\n     <use xlink:href=\"#mc81277f250\" x=\"121.792845\" y=\"77.6551\" style=\"fill: #1f77b4; stroke: #1f77b4\"/>\n     <use xlink:href=\"#mc81277f250\" x=\"136.300975\" y=\"101.307642\" style=\"fill: #1f77b4; stroke: #1f77b4\"/>\n     <use xlink:href=\"#mc81277f250\" x=\"119.180398\" y=\"86.128728\" style=\"fill: #1f77b4; stroke: #1f77b4\"/>\n     <use xlink:href=\"#mc81277f250\" x=\"145.206337\" y=\"106.529389\" style=\"fill: #1f77b4; stroke: #1f77b4\"/>\n     <use xlink:href=\"#mc81277f250\" x=\"128.940526\" y=\"86.165583\" style=\"fill: #1f77b4; stroke: #1f77b4\"/>\n     <use xlink:href=\"#mc81277f250\" x=\"111.191876\" y=\"75.748665\" style=\"fill: #1f77b4; stroke: #1f77b4\"/>\n     <use xlink:href=\"#mc81277f250\" x=\"120.911661\" y=\"81.423971\" style=\"fill: #1f77b4; stroke: #1f77b4\"/>\n     <use xlink:href=\"#mc81277f250\" x=\"60.957451\" y=\"60.59561\" style=\"fill: #1f77b4; stroke: #1f77b4\"/>\n     <use xlink:href=\"#mc81277f250\" x=\"130.89253\" y=\"86.286309\" style=\"fill: #1f77b4; stroke: #1f77b4\"/>\n     <use xlink:href=\"#mc81277f250\" x=\"161.848467\" y=\"100.388579\" style=\"fill: #1f77b4; stroke: #1f77b4\"/>\n     <use xlink:href=\"#mc81277f250\" x=\"81.751998\" y=\"62.141081\" style=\"fill: #1f77b4; stroke: #1f77b4\"/>\n     <use xlink:href=\"#mc81277f250\" x=\"109.784005\" y=\"59.467195\" style=\"fill: #1f77b4; stroke: #1f77b4\"/>\n     <use xlink:href=\"#mc81277f250\" x=\"152.069359\" y=\"104.706853\" style=\"fill: #1f77b4; stroke: #1f77b4\"/>\n     <use xlink:href=\"#mc81277f250\" x=\"141.331208\" y=\"89.969338\" style=\"fill: #1f77b4; stroke: #1f77b4\"/>\n     <use xlink:href=\"#mc81277f250\" x=\"147.817532\" y=\"88.084283\" style=\"fill: #1f77b4; stroke: #1f77b4\"/>\n     <use xlink:href=\"#mc81277f250\" x=\"125.707163\" y=\"87.018826\" style=\"fill: #1f77b4; stroke: #1f77b4\"/>\n     <use xlink:href=\"#mc81277f250\" x=\"122.951776\" y=\"88.834862\" style=\"fill: #1f77b4; stroke: #1f77b4\"/>\n     <use xlink:href=\"#mc81277f250\" x=\"98.637571\" y=\"57.051136\" style=\"fill: #1f77b4; stroke: #1f77b4\"/>\n     <use xlink:href=\"#mc81277f250\" x=\"179.891037\" y=\"115.868294\" style=\"fill: #1f77b4; stroke: #1f77b4\"/>\n     <use xlink:href=\"#mc81277f250\" x=\"121.192093\" y=\"81.435316\" style=\"fill: #1f77b4; stroke: #1f77b4\"/>\n     <use xlink:href=\"#mc81277f250\" x=\"51.256597\" y=\"30.831306\" style=\"fill: #1f77b4; stroke: #1f77b4\"/>\n     <use xlink:href=\"#mc81277f250\" x=\"108.350767\" y=\"70.119853\" style=\"fill: #1f77b4; stroke: #1f77b4\"/>\n     <use xlink:href=\"#mc81277f250\" x=\"82.29029\" y=\"66.788332\" style=\"fill: #1f77b4; stroke: #1f77b4\"/>\n     <use xlink:href=\"#mc81277f250\" x=\"129.612596\" y=\"74.819749\" style=\"fill: #1f77b4; stroke: #1f77b4\"/>\n     <use xlink:href=\"#mc81277f250\" x=\"115.819775\" y=\"71.212171\" style=\"fill: #1f77b4; stroke: #1f77b4\"/>\n     <use xlink:href=\"#mc81277f250\" x=\"161.69929\" y=\"101.780882\" style=\"fill: #1f77b4; stroke: #1f77b4\"/>\n     <use xlink:href=\"#mc81277f250\" x=\"145.569204\" y=\"106.02258\" style=\"fill: #1f77b4; stroke: #1f77b4\"/>\n     <use xlink:href=\"#mc81277f250\" x=\"147.309793\" y=\"82.837686\" style=\"fill: #1f77b4; stroke: #1f77b4\"/>\n     <use xlink:href=\"#mc81277f250\" x=\"144.216068\" y=\"82.303477\" style=\"fill: #1f77b4; stroke: #1f77b4\"/>\n     <use xlink:href=\"#mc81277f250\" x=\"111.159249\" y=\"90.514044\" style=\"fill: #1f77b4; stroke: #1f77b4\"/>\n     <use xlink:href=\"#mc81277f250\" x=\"156.209332\" y=\"125.650628\" style=\"fill: #1f77b4; stroke: #1f77b4\"/>\n     <use xlink:href=\"#mc81277f250\" x=\"141.196236\" y=\"90.097795\" style=\"fill: #1f77b4; stroke: #1f77b4\"/>\n     <use xlink:href=\"#mc81277f250\" x=\"145.479302\" y=\"95.327951\" style=\"fill: #1f77b4; stroke: #1f77b4\"/>\n     <use xlink:href=\"#mc81277f250\" x=\"101.54352\" y=\"72.202608\" style=\"fill: #1f77b4; stroke: #1f77b4\"/>\n     <use xlink:href=\"#mc81277f250\" x=\"181.059913\" y=\"104.014475\" style=\"fill: #1f77b4; stroke: #1f77b4\"/>\n     <use xlink:href=\"#mc81277f250\" x=\"124.538341\" y=\"80.322112\" style=\"fill: #1f77b4; stroke: #1f77b4\"/>\n     <use xlink:href=\"#mc81277f250\" x=\"117.122519\" y=\"62.391634\" style=\"fill: #1f77b4; stroke: #1f77b4\"/>\n     <use xlink:href=\"#mc81277f250\" x=\"127.748646\" y=\"83.544862\" style=\"fill: #1f77b4; stroke: #1f77b4\"/>\n     <use xlink:href=\"#mc81277f250\" x=\"133.412966\" y=\"97.554839\" style=\"fill: #1f77b4; stroke: #1f77b4\"/>\n     <use xlink:href=\"#mc81277f250\" x=\"131.642814\" y=\"77.747411\" style=\"fill: #1f77b4; stroke: #1f77b4\"/>\n     <use xlink:href=\"#mc81277f250\" x=\"139.783907\" y=\"90.461142\" style=\"fill: #1f77b4; stroke: #1f77b4\"/>\n     <use xlink:href=\"#mc81277f250\" x=\"93.61606\" y=\"61.671583\" style=\"fill: #1f77b4; stroke: #1f77b4\"/>\n     <use xlink:href=\"#mc81277f250\" x=\"138.158988\" y=\"99.34267\" style=\"fill: #1f77b4; stroke: #1f77b4\"/>\n     <use xlink:href=\"#mc81277f250\" x=\"113.026003\" y=\"76.202645\" style=\"fill: #1f77b4; stroke: #1f77b4\"/>\n     <use xlink:href=\"#mc81277f250\" x=\"133.059491\" y=\"95.702223\" style=\"fill: #1f77b4; stroke: #1f77b4\"/>\n     <use xlink:href=\"#mc81277f250\" x=\"131.612798\" y=\"93.972986\" style=\"fill: #1f77b4; stroke: #1f77b4\"/>\n     <use xlink:href=\"#mc81277f250\" x=\"95.020382\" y=\"62.334438\" style=\"fill: #1f77b4; stroke: #1f77b4\"/>\n     <use xlink:href=\"#mc81277f250\" x=\"192.544012\" y=\"129.883371\" style=\"fill: #1f77b4; stroke: #1f77b4\"/>\n     <use xlink:href=\"#mc81277f250\" x=\"159.726127\" y=\"94.513228\" style=\"fill: #1f77b4; stroke: #1f77b4\"/>\n     <use xlink:href=\"#mc81277f250\" x=\"102.1755\" y=\"79.599489\" style=\"fill: #1f77b4; stroke: #1f77b4\"/>\n     <use xlink:href=\"#mc81277f250\" x=\"150.140762\" y=\"96.401595\" style=\"fill: #1f77b4; stroke: #1f77b4\"/>\n     <use xlink:href=\"#mc81277f250\" x=\"67.284049\" y=\"51.878743\" style=\"fill: #1f77b4; stroke: #1f77b4\"/>\n     <use xlink:href=\"#mc81277f250\" x=\"169.094824\" y=\"114.755231\" style=\"fill: #1f77b4; stroke: #1f77b4\"/>\n     <use xlink:href=\"#mc81277f250\" x=\"149.764383\" y=\"114.310809\" style=\"fill: #1f77b4; stroke: #1f77b4\"/>\n     <use xlink:href=\"#mc81277f250\" x=\"137.305983\" y=\"79.09404\" style=\"fill: #1f77b4; stroke: #1f77b4\"/>\n     <use xlink:href=\"#mc81277f250\" x=\"145.5329\" y=\"85.395127\" style=\"fill: #1f77b4; stroke: #1f77b4\"/>\n     <use xlink:href=\"#mc81277f250\" x=\"168.624563\" y=\"104.529637\" style=\"fill: #1f77b4; stroke: #1f77b4\"/>\n     <use xlink:href=\"#mc81277f250\" x=\"178.04317\" y=\"112.666727\" style=\"fill: #1f77b4; stroke: #1f77b4\"/>\n     <use xlink:href=\"#mc81277f250\" x=\"167.082816\" y=\"113.577294\" style=\"fill: #1f77b4; stroke: #1f77b4\"/>\n     <use xlink:href=\"#mc81277f250\" x=\"144.612653\" y=\"90.407704\" style=\"fill: #1f77b4; stroke: #1f77b4\"/>\n     <use xlink:href=\"#mc81277f250\" x=\"161.367892\" y=\"106.24367\" style=\"fill: #1f77b4; stroke: #1f77b4\"/>\n     <use xlink:href=\"#mc81277f250\" x=\"136.663393\" y=\"93.393668\" style=\"fill: #1f77b4; stroke: #1f77b4\"/>\n     <use xlink:href=\"#mc81277f250\" x=\"115.031409\" y=\"70.686584\" style=\"fill: #1f77b4; stroke: #1f77b4\"/>\n     <use xlink:href=\"#mc81277f250\" x=\"133.249252\" y=\"94.501079\" style=\"fill: #1f77b4; stroke: #1f77b4\"/>\n     <use xlink:href=\"#mc81277f250\" x=\"174.198686\" y=\"108.986603\" style=\"fill: #1f77b4; stroke: #1f77b4\"/>\n     <use xlink:href=\"#mc81277f250\" x=\"124.372766\" y=\"87.747352\" style=\"fill: #1f77b4; stroke: #1f77b4\"/>\n     <use xlink:href=\"#mc81277f250\" x=\"103.322894\" y=\"70.531502\" style=\"fill: #1f77b4; stroke: #1f77b4\"/>\n     <use xlink:href=\"#mc81277f250\" x=\"106.082398\" y=\"73.478261\" style=\"fill: #1f77b4; stroke: #1f77b4\"/>\n     <use xlink:href=\"#mc81277f250\" x=\"102.603377\" y=\"52.432009\" style=\"fill: #1f77b4; stroke: #1f77b4\"/>\n     <use xlink:href=\"#mc81277f250\" x=\"141.777817\" y=\"71.446974\" style=\"fill: #1f77b4; stroke: #1f77b4\"/>\n     <use xlink:href=\"#mc81277f250\" x=\"163.777732\" y=\"100.177217\" style=\"fill: #1f77b4; stroke: #1f77b4\"/>\n     <use xlink:href=\"#mc81277f250\" x=\"106.525454\" y=\"57.18218\" style=\"fill: #1f77b4; stroke: #1f77b4\"/>\n     <use xlink:href=\"#mc81277f250\" x=\"162.494916\" y=\"130.889568\" style=\"fill: #1f77b4; stroke: #1f77b4\"/>\n     <use xlink:href=\"#mc81277f250\" x=\"109.495446\" y=\"77.47965\" style=\"fill: #1f77b4; stroke: #1f77b4\"/>\n     <use xlink:href=\"#mc81277f250\" x=\"145.517541\" y=\"87.588814\" style=\"fill: #1f77b4; stroke: #1f77b4\"/>\n     <use xlink:href=\"#mc81277f250\" x=\"137.918456\" y=\"85.228348\" style=\"fill: #1f77b4; stroke: #1f77b4\"/>\n     <use xlink:href=\"#mc81277f250\" x=\"109.366772\" y=\"53.73975\" style=\"fill: #1f77b4; stroke: #1f77b4\"/>\n     <use xlink:href=\"#mc81277f250\" x=\"150.49593\" y=\"89.817762\" style=\"fill: #1f77b4; stroke: #1f77b4\"/>\n     <use xlink:href=\"#mc81277f250\" x=\"167.607833\" y=\"110.357653\" style=\"fill: #1f77b4; stroke: #1f77b4\"/>\n     <use xlink:href=\"#mc81277f250\" x=\"117.233039\" y=\"98.425573\" style=\"fill: #1f77b4; stroke: #1f77b4\"/>\n     <use xlink:href=\"#mc81277f250\" x=\"141.570823\" y=\"94.336902\" style=\"fill: #1f77b4; stroke: #1f77b4\"/>\n     <use xlink:href=\"#mc81277f250\" x=\"121.908074\" y=\"71.319849\" style=\"fill: #1f77b4; stroke: #1f77b4\"/>\n     <use xlink:href=\"#mc81277f250\" x=\"120.949326\" y=\"75.313475\" style=\"fill: #1f77b4; stroke: #1f77b4\"/>\n     <use xlink:href=\"#mc81277f250\" x=\"183.702114\" y=\"121.805738\" style=\"fill: #1f77b4; stroke: #1f77b4\"/>\n     <use xlink:href=\"#mc81277f250\" x=\"142.323873\" y=\"99.359261\" style=\"fill: #1f77b4; stroke: #1f77b4\"/>\n     <use xlink:href=\"#mc81277f250\" x=\"159.28079\" y=\"114.550814\" style=\"fill: #1f77b4; stroke: #1f77b4\"/>\n     <use xlink:href=\"#mc81277f250\" x=\"130.878814\" y=\"90.660933\" style=\"fill: #1f77b4; stroke: #1f77b4\"/>\n     <use xlink:href=\"#mc81277f250\" x=\"155.194573\" y=\"98.835771\" style=\"fill: #1f77b4; stroke: #1f77b4\"/>\n     <use xlink:href=\"#mc81277f250\" x=\"114.670907\" y=\"77.174035\" style=\"fill: #1f77b4; stroke: #1f77b4\"/>\n     <use xlink:href=\"#mc81277f250\" x=\"117.063279\" y=\"85.89011\" style=\"fill: #1f77b4; stroke: #1f77b4\"/>\n     <use xlink:href=\"#mc81277f250\" x=\"137.445093\" y=\"96.591527\" style=\"fill: #1f77b4; stroke: #1f77b4\"/>\n     <use xlink:href=\"#mc81277f250\" x=\"114.357893\" y=\"68.386346\" style=\"fill: #1f77b4; stroke: #1f77b4\"/>\n     <use xlink:href=\"#mc81277f250\" x=\"167.953092\" y=\"107.421955\" style=\"fill: #1f77b4; stroke: #1f77b4\"/>\n     <use xlink:href=\"#mc81277f250\" x=\"147.111077\" y=\"91.102559\" style=\"fill: #1f77b4; stroke: #1f77b4\"/>\n     <use xlink:href=\"#mc81277f250\" x=\"127.265988\" y=\"71.873825\" style=\"fill: #1f77b4; stroke: #1f77b4\"/>\n     <use xlink:href=\"#mc81277f250\" x=\"186.796978\" y=\"122.914272\" style=\"fill: #1f77b4; stroke: #1f77b4\"/>\n     <use xlink:href=\"#mc81277f250\" x=\"80.887312\" y=\"57.954422\" style=\"fill: #1f77b4; stroke: #1f77b4\"/>\n     <use xlink:href=\"#mc81277f250\" x=\"138.793671\" y=\"70.60682\" style=\"fill: #1f77b4; stroke: #1f77b4\"/>\n     <use xlink:href=\"#mc81277f250\" x=\"145.080557\" y=\"106.470358\" style=\"fill: #1f77b4; stroke: #1f77b4\"/>\n     <use xlink:href=\"#mc81277f250\" x=\"109.523937\" y=\"66.394762\" style=\"fill: #1f77b4; stroke: #1f77b4\"/>\n     <use xlink:href=\"#mc81277f250\" x=\"121.400676\" y=\"84.480176\" style=\"fill: #1f77b4; stroke: #1f77b4\"/>\n     <use xlink:href=\"#mc81277f250\" x=\"159.842267\" y=\"90.465344\" style=\"fill: #1f77b4; stroke: #1f77b4\"/>\n     <use xlink:href=\"#mc81277f250\" x=\"109.88579\" y=\"63.306582\" style=\"fill: #1f77b4; stroke: #1f77b4\"/>\n     <use xlink:href=\"#mc81277f250\" x=\"135.332236\" y=\"81.337632\" style=\"fill: #1f77b4; stroke: #1f77b4\"/>\n     <use xlink:href=\"#mc81277f250\" x=\"179.115261\" y=\"131.932864\" style=\"fill: #1f77b4; stroke: #1f77b4\"/>\n     <use xlink:href=\"#mc81277f250\" x=\"136.587481\" y=\"92.342854\" style=\"fill: #1f77b4; stroke: #1f77b4\"/>\n     <use xlink:href=\"#mc81277f250\" x=\"137.143377\" y=\"81.397818\" style=\"fill: #1f77b4; stroke: #1f77b4\"/>\n     <use xlink:href=\"#mc81277f250\" x=\"106.755494\" y=\"69.282099\" style=\"fill: #1f77b4; stroke: #1f77b4\"/>\n     <use xlink:href=\"#mc81277f250\" x=\"122.983307\" y=\"65.845042\" style=\"fill: #1f77b4; stroke: #1f77b4\"/>\n     <use xlink:href=\"#mc81277f250\" x=\"110.226584\" y=\"81.362155\" style=\"fill: #1f77b4; stroke: #1f77b4\"/>\n     <use xlink:href=\"#mc81277f250\" x=\"132.65714\" y=\"108.623136\" style=\"fill: #1f77b4; stroke: #1f77b4\"/>\n     <use xlink:href=\"#mc81277f250\" x=\"203.06828\" y=\"140.475953\" style=\"fill: #1f77b4; stroke: #1f77b4\"/>\n     <use xlink:href=\"#mc81277f250\" x=\"143.201085\" y=\"95.13254\" style=\"fill: #1f77b4; stroke: #1f77b4\"/>\n     <use xlink:href=\"#mc81277f250\" x=\"135.857962\" y=\"89.199141\" style=\"fill: #1f77b4; stroke: #1f77b4\"/>\n     <use xlink:href=\"#mc81277f250\" x=\"114.18937\" y=\"57.464146\" style=\"fill: #1f77b4; stroke: #1f77b4\"/>\n     <use xlink:href=\"#mc81277f250\" x=\"80.830737\" y=\"74.806623\" style=\"fill: #1f77b4; stroke: #1f77b4\"/>\n     <use xlink:href=\"#mc81277f250\" x=\"117.625231\" y=\"83.010872\" style=\"fill: #1f77b4; stroke: #1f77b4\"/>\n     <use xlink:href=\"#mc81277f250\" x=\"150.559421\" y=\"88.161481\" style=\"fill: #1f77b4; stroke: #1f77b4\"/>\n     <use xlink:href=\"#mc81277f250\" x=\"141.425456\" y=\"92.925876\" style=\"fill: #1f77b4; stroke: #1f77b4\"/>\n     <use xlink:href=\"#mc81277f250\" x=\"122.049758\" y=\"73.912286\" style=\"fill: #1f77b4; stroke: #1f77b4\"/>\n     <use xlink:href=\"#mc81277f250\" x=\"110.180275\" y=\"65.953933\" style=\"fill: #1f77b4; stroke: #1f77b4\"/>\n     <use xlink:href=\"#mc81277f250\" x=\"131.787955\" y=\"89.154885\" style=\"fill: #1f77b4; stroke: #1f77b4\"/>\n     <use xlink:href=\"#mc81277f250\" x=\"170.938042\" y=\"98.092325\" style=\"fill: #1f77b4; stroke: #1f77b4\"/>\n     <use xlink:href=\"#mc81277f250\" x=\"128.090822\" y=\"66.190526\" style=\"fill: #1f77b4; stroke: #1f77b4\"/>\n     <use xlink:href=\"#mc81277f250\" x=\"126.347767\" y=\"71.569265\" style=\"fill: #1f77b4; stroke: #1f77b4\"/>\n     <use xlink:href=\"#mc81277f250\" x=\"107.50535\" y=\"90.525176\" style=\"fill: #1f77b4; stroke: #1f77b4\"/>\n     <use xlink:href=\"#mc81277f250\" x=\"121.716553\" y=\"85.547067\" style=\"fill: #1f77b4; stroke: #1f77b4\"/>\n     <use xlink:href=\"#mc81277f250\" x=\"142.373704\" y=\"88.077113\" style=\"fill: #1f77b4; stroke: #1f77b4\"/>\n     <use xlink:href=\"#mc81277f250\" x=\"114.098045\" y=\"79.349006\" style=\"fill: #1f77b4; stroke: #1f77b4\"/>\n     <use xlink:href=\"#mc81277f250\" x=\"154.690183\" y=\"104.572174\" style=\"fill: #1f77b4; stroke: #1f77b4\"/>\n     <use xlink:href=\"#mc81277f250\" x=\"115.885047\" y=\"75.908493\" style=\"fill: #1f77b4; stroke: #1f77b4\"/>\n     <use xlink:href=\"#mc81277f250\" x=\"111.40282\" y=\"71.844401\" style=\"fill: #1f77b4; stroke: #1f77b4\"/>\n     <use xlink:href=\"#mc81277f250\" x=\"103.35552\" y=\"57.550744\" style=\"fill: #1f77b4; stroke: #1f77b4\"/>\n     <use xlink:href=\"#mc81277f250\" x=\"114.403073\" y=\"76.849949\" style=\"fill: #1f77b4; stroke: #1f77b4\"/>\n     <use xlink:href=\"#mc81277f250\" x=\"119.357377\" y=\"75.238163\" style=\"fill: #1f77b4; stroke: #1f77b4\"/>\n     <use xlink:href=\"#mc81277f250\" x=\"114.252574\" y=\"76.001759\" style=\"fill: #1f77b4; stroke: #1f77b4\"/>\n     <use xlink:href=\"#mc81277f250\" x=\"44.18196\" y=\"47.266135\" style=\"fill: #1f77b4; stroke: #1f77b4\"/>\n     <use xlink:href=\"#mc81277f250\" x=\"139.28533\" y=\"109.711204\" style=\"fill: #1f77b4; stroke: #1f77b4\"/>\n     <use xlink:href=\"#mc81277f250\" x=\"123.833088\" y=\"64.608922\" style=\"fill: #1f77b4; stroke: #1f77b4\"/>\n     <use xlink:href=\"#mc81277f250\" x=\"123.942051\" y=\"97.894651\" style=\"fill: #1f77b4; stroke: #1f77b4\"/>\n     <use xlink:href=\"#mc81277f250\" x=\"101.940191\" y=\"70.740386\" style=\"fill: #1f77b4; stroke: #1f77b4\"/>\n     <use xlink:href=\"#mc81277f250\" x=\"125.181292\" y=\"85.357492\" style=\"fill: #1f77b4; stroke: #1f77b4\"/>\n     <use xlink:href=\"#mc81277f250\" x=\"92.313696\" y=\"70.319254\" style=\"fill: #1f77b4; stroke: #1f77b4\"/>\n     <use xlink:href=\"#mc81277f250\" x=\"99.177299\" y=\"68.350936\" style=\"fill: #1f77b4; stroke: #1f77b4\"/>\n     <use xlink:href=\"#mc81277f250\" x=\"121.337237\" y=\"73.642785\" style=\"fill: #1f77b4; stroke: #1f77b4\"/>\n     <use xlink:href=\"#mc81277f250\" x=\"152.460803\" y=\"94.493496\" style=\"fill: #1f77b4; stroke: #1f77b4\"/>\n     <use xlink:href=\"#mc81277f250\" x=\"127.837023\" y=\"95.669233\" style=\"fill: #1f77b4; stroke: #1f77b4\"/>\n     <use xlink:href=\"#mc81277f250\" x=\"145.997927\" y=\"84.81758\" style=\"fill: #1f77b4; stroke: #1f77b4\"/>\n     <use xlink:href=\"#mc81277f250\" x=\"108.849774\" y=\"68.417319\" style=\"fill: #1f77b4; stroke: #1f77b4\"/>\n     <use xlink:href=\"#mc81277f250\" x=\"114.139943\" y=\"76.167006\" style=\"fill: #1f77b4; stroke: #1f77b4\"/>\n     <use xlink:href=\"#mc81277f250\" x=\"69.316077\" y=\"57.01515\" style=\"fill: #1f77b4; stroke: #1f77b4\"/>\n     <use xlink:href=\"#mc81277f250\" x=\"132.835508\" y=\"84.683084\" style=\"fill: #1f77b4; stroke: #1f77b4\"/>\n     <use xlink:href=\"#mc81277f250\" x=\"142.367961\" y=\"84.615766\" style=\"fill: #1f77b4; stroke: #1f77b4\"/>\n     <use xlink:href=\"#mc81277f250\" x=\"157.503101\" y=\"93.771279\" style=\"fill: #1f77b4; stroke: #1f77b4\"/>\n     <use xlink:href=\"#mc81277f250\" x=\"82.771584\" y=\"56.460529\" style=\"fill: #1f77b4; stroke: #1f77b4\"/>\n     <use xlink:href=\"#mc81277f250\" x=\"113.945744\" y=\"77.005581\" style=\"fill: #1f77b4; stroke: #1f77b4\"/>\n     <use xlink:href=\"#mc81277f250\" x=\"147.314303\" y=\"90.99167\" style=\"fill: #1f77b4; stroke: #1f77b4\"/>\n     <use xlink:href=\"#mc81277f250\" x=\"128.570244\" y=\"91.243377\" style=\"fill: #1f77b4; stroke: #1f77b4\"/>\n     <use xlink:href=\"#mc81277f250\" x=\"115.063985\" y=\"90.960799\" style=\"fill: #1f77b4; stroke: #1f77b4\"/>\n     <use xlink:href=\"#mc81277f250\" x=\"124.799614\" y=\"85.753645\" style=\"fill: #1f77b4; stroke: #1f77b4\"/>\n     <use xlink:href=\"#mc81277f250\" x=\"141.891866\" y=\"93.276842\" style=\"fill: #1f77b4; stroke: #1f77b4\"/>\n     <use xlink:href=\"#mc81277f250\" x=\"119.323786\" y=\"83.090916\" style=\"fill: #1f77b4; stroke: #1f77b4\"/>\n     <use xlink:href=\"#mc81277f250\" x=\"114.331937\" y=\"85.326255\" style=\"fill: #1f77b4; stroke: #1f77b4\"/>\n     <use xlink:href=\"#mc81277f250\" x=\"109.779416\" y=\"70.231972\" style=\"fill: #1f77b4; stroke: #1f77b4\"/>\n     <use xlink:href=\"#mc81277f250\" x=\"172.150256\" y=\"116.859318\" style=\"fill: #1f77b4; stroke: #1f77b4\"/>\n     <use xlink:href=\"#mc81277f250\" x=\"131.887087\" y=\"70.267413\" style=\"fill: #1f77b4; stroke: #1f77b4\"/>\n     <use xlink:href=\"#mc81277f250\" x=\"162.279352\" y=\"106.187872\" style=\"fill: #1f77b4; stroke: #1f77b4\"/>\n     <use xlink:href=\"#mc81277f250\" x=\"139.789639\" y=\"104.991022\" style=\"fill: #1f77b4; stroke: #1f77b4\"/>\n     <use xlink:href=\"#mc81277f250\" x=\"119.283118\" y=\"83.991693\" style=\"fill: #1f77b4; stroke: #1f77b4\"/>\n     <use xlink:href=\"#mc81277f250\" x=\"157.020246\" y=\"87.608827\" style=\"fill: #1f77b4; stroke: #1f77b4\"/>\n     <use xlink:href=\"#mc81277f250\" x=\"98.695639\" y=\"66.860222\" style=\"fill: #1f77b4; stroke: #1f77b4\"/>\n     <use xlink:href=\"#mc81277f250\" x=\"91.04931\" y=\"64.389541\" style=\"fill: #1f77b4; stroke: #1f77b4\"/>\n     <use xlink:href=\"#mc81277f250\" x=\"117.827103\" y=\"75.277702\" style=\"fill: #1f77b4; stroke: #1f77b4\"/>\n     <use xlink:href=\"#mc81277f250\" x=\"137.035914\" y=\"85.045095\" style=\"fill: #1f77b4; stroke: #1f77b4\"/>\n     <use xlink:href=\"#mc81277f250\" x=\"91.798781\" y=\"74.106297\" style=\"fill: #1f77b4; stroke: #1f77b4\"/>\n     <use xlink:href=\"#mc81277f250\" x=\"160.978768\" y=\"86.929078\" style=\"fill: #1f77b4; stroke: #1f77b4\"/>\n     <use xlink:href=\"#mc81277f250\" x=\"106.32938\" y=\"73.463409\" style=\"fill: #1f77b4; stroke: #1f77b4\"/>\n     <use xlink:href=\"#mc81277f250\" x=\"221.727415\" y=\"129.558853\" style=\"fill: #1f77b4; stroke: #1f77b4\"/>\n     <use xlink:href=\"#mc81277f250\" x=\"148.885306\" y=\"92.560955\" style=\"fill: #1f77b4; stroke: #1f77b4\"/>\n     <use xlink:href=\"#mc81277f250\" x=\"142.13731\" y=\"92.388718\" style=\"fill: #1f77b4; stroke: #1f77b4\"/>\n     <use xlink:href=\"#mc81277f250\" x=\"112.216121\" y=\"76.206568\" style=\"fill: #1f77b4; stroke: #1f77b4\"/>\n     <use xlink:href=\"#mc81277f250\" x=\"153.239223\" y=\"105.781476\" style=\"fill: #1f77b4; stroke: #1f77b4\"/>\n     <use xlink:href=\"#mc81277f250\" x=\"179.498808\" y=\"122.900446\" style=\"fill: #1f77b4; stroke: #1f77b4\"/>\n     <use xlink:href=\"#mc81277f250\" x=\"137.915701\" y=\"86.765903\" style=\"fill: #1f77b4; stroke: #1f77b4\"/>\n     <use xlink:href=\"#mc81277f250\" x=\"119.970371\" y=\"72.790466\" style=\"fill: #1f77b4; stroke: #1f77b4\"/>\n     <use xlink:href=\"#mc81277f250\" x=\"117.59081\" y=\"73.725636\" style=\"fill: #1f77b4; stroke: #1f77b4\"/>\n     <use xlink:href=\"#mc81277f250\" x=\"142.629373\" y=\"70.739042\" style=\"fill: #1f77b4; stroke: #1f77b4\"/>\n     <use xlink:href=\"#mc81277f250\" x=\"127.509225\" y=\"77.509611\" style=\"fill: #1f77b4; stroke: #1f77b4\"/>\n     <use xlink:href=\"#mc81277f250\" x=\"93.551947\" y=\"66.414871\" style=\"fill: #1f77b4; stroke: #1f77b4\"/>\n     <use xlink:href=\"#mc81277f250\" x=\"154.487434\" y=\"119.236395\" style=\"fill: #1f77b4; stroke: #1f77b4\"/>\n     <use xlink:href=\"#mc81277f250\" x=\"142.94235\" y=\"98.300895\" style=\"fill: #1f77b4; stroke: #1f77b4\"/>\n     <use xlink:href=\"#mc81277f250\" x=\"162.119376\" y=\"112.412768\" style=\"fill: #1f77b4; stroke: #1f77b4\"/>\n     <use xlink:href=\"#mc81277f250\" x=\"151.644905\" y=\"104.04935\" style=\"fill: #1f77b4; stroke: #1f77b4\"/>\n     <use xlink:href=\"#mc81277f250\" x=\"106.053691\" y=\"51.419418\" style=\"fill: #1f77b4; stroke: #1f77b4\"/>\n     <use xlink:href=\"#mc81277f250\" x=\"105.976493\" y=\"72.794561\" style=\"fill: #1f77b4; stroke: #1f77b4\"/>\n     <use xlink:href=\"#mc81277f250\" x=\"87.518529\" y=\"62.470423\" style=\"fill: #1f77b4; stroke: #1f77b4\"/>\n     <use xlink:href=\"#mc81277f250\" x=\"153.747537\" y=\"102.814789\" style=\"fill: #1f77b4; stroke: #1f77b4\"/>\n     <use xlink:href=\"#mc81277f250\" x=\"149.980525\" y=\"105.898985\" style=\"fill: #1f77b4; stroke: #1f77b4\"/>\n     <use xlink:href=\"#mc81277f250\" x=\"137.915377\" y=\"88.426283\" style=\"fill: #1f77b4; stroke: #1f77b4\"/>\n     <use xlink:href=\"#mc81277f250\" x=\"144.991581\" y=\"99.704555\" style=\"fill: #1f77b4; stroke: #1f77b4\"/>\n     <use xlink:href=\"#mc81277f250\" x=\"143.745804\" y=\"80.570458\" style=\"fill: #1f77b4; stroke: #1f77b4\"/>\n     <use xlink:href=\"#mc81277f250\" x=\"112.331655\" y=\"85.431543\" style=\"fill: #1f77b4; stroke: #1f77b4\"/>\n     <use xlink:href=\"#mc81277f250\" x=\"195.134637\" y=\"121.180286\" style=\"fill: #1f77b4; stroke: #1f77b4\"/>\n     <use xlink:href=\"#mc81277f250\" x=\"103.655005\" y=\"74.39336\" style=\"fill: #1f77b4; stroke: #1f77b4\"/>\n     <use xlink:href=\"#mc81277f250\" x=\"123.88165\" y=\"95.036257\" style=\"fill: #1f77b4; stroke: #1f77b4\"/>\n     <use xlink:href=\"#mc81277f250\" x=\"128.42175\" y=\"79.474442\" style=\"fill: #1f77b4; stroke: #1f77b4\"/>\n     <use xlink:href=\"#mc81277f250\" x=\"118.305438\" y=\"79.382213\" style=\"fill: #1f77b4; stroke: #1f77b4\"/>\n     <use xlink:href=\"#mc81277f250\" x=\"106.283187\" y=\"64.820693\" style=\"fill: #1f77b4; stroke: #1f77b4\"/>\n     <use xlink:href=\"#mc81277f250\" x=\"146.705882\" y=\"106.842118\" style=\"fill: #1f77b4; stroke: #1f77b4\"/>\n     <use xlink:href=\"#mc81277f250\" x=\"120.888295\" y=\"67.550486\" style=\"fill: #1f77b4; stroke: #1f77b4\"/>\n     <use xlink:href=\"#mc81277f250\" x=\"187.007904\" y=\"117.862333\" style=\"fill: #1f77b4; stroke: #1f77b4\"/>\n     <use xlink:href=\"#mc81277f250\" x=\"82.259985\" y=\"56.107739\" style=\"fill: #1f77b4; stroke: #1f77b4\"/>\n     <use xlink:href=\"#mc81277f250\" x=\"142.2056\" y=\"96.89988\" style=\"fill: #1f77b4; stroke: #1f77b4\"/>\n     <use xlink:href=\"#mc81277f250\" x=\"132.980411\" y=\"73.648027\" style=\"fill: #1f77b4; stroke: #1f77b4\"/>\n     <use xlink:href=\"#mc81277f250\" x=\"157.322111\" y=\"99.103505\" style=\"fill: #1f77b4; stroke: #1f77b4\"/>\n     <use xlink:href=\"#mc81277f250\" x=\"127.068673\" y=\"75.624133\" style=\"fill: #1f77b4; stroke: #1f77b4\"/>\n     <use xlink:href=\"#mc81277f250\" x=\"134.508973\" y=\"101.96594\" style=\"fill: #1f77b4; stroke: #1f77b4\"/>\n     <use xlink:href=\"#mc81277f250\" x=\"110.764382\" y=\"81.54775\" style=\"fill: #1f77b4; stroke: #1f77b4\"/>\n     <use xlink:href=\"#mc81277f250\" x=\"139.717199\" y=\"89.282375\" style=\"fill: #1f77b4; stroke: #1f77b4\"/>\n     <use xlink:href=\"#mc81277f250\" x=\"147.538543\" y=\"98.182546\" style=\"fill: #1f77b4; stroke: #1f77b4\"/>\n     <use xlink:href=\"#mc81277f250\" x=\"89.881311\" y=\"67.845227\" style=\"fill: #1f77b4; stroke: #1f77b4\"/>\n     <use xlink:href=\"#mc81277f250\" x=\"155.366622\" y=\"104.020796\" style=\"fill: #1f77b4; stroke: #1f77b4\"/>\n     <use xlink:href=\"#mc81277f250\" x=\"140.275673\" y=\"92.355005\" style=\"fill: #1f77b4; stroke: #1f77b4\"/>\n     <use xlink:href=\"#mc81277f250\" x=\"139.645173\" y=\"86.184077\" style=\"fill: #1f77b4; stroke: #1f77b4\"/>\n     <use xlink:href=\"#mc81277f250\" x=\"125.952211\" y=\"77.138966\" style=\"fill: #1f77b4; stroke: #1f77b4\"/>\n     <use xlink:href=\"#mc81277f250\" x=\"113.56518\" y=\"65.757428\" style=\"fill: #1f77b4; stroke: #1f77b4\"/>\n     <use xlink:href=\"#mc81277f250\" x=\"121.050184\" y=\"64.684648\" style=\"fill: #1f77b4; stroke: #1f77b4\"/>\n     <use xlink:href=\"#mc81277f250\" x=\"122.967579\" y=\"75.613824\" style=\"fill: #1f77b4; stroke: #1f77b4\"/>\n     <use xlink:href=\"#mc81277f250\" x=\"74.012229\" y=\"50.965102\" style=\"fill: #1f77b4; stroke: #1f77b4\"/>\n     <use xlink:href=\"#mc81277f250\" x=\"135.774437\" y=\"77.170759\" style=\"fill: #1f77b4; stroke: #1f77b4\"/>\n     <use xlink:href=\"#mc81277f250\" x=\"136.386482\" y=\"78.091803\" style=\"fill: #1f77b4; stroke: #1f77b4\"/>\n     <use xlink:href=\"#mc81277f250\" x=\"112.778184\" y=\"79.209035\" style=\"fill: #1f77b4; stroke: #1f77b4\"/>\n     <use xlink:href=\"#mc81277f250\" x=\"171.570089\" y=\"101.916546\" style=\"fill: #1f77b4; stroke: #1f77b4\"/>\n     <use xlink:href=\"#mc81277f250\" x=\"96.134773\" y=\"66.251553\" style=\"fill: #1f77b4; stroke: #1f77b4\"/>\n     <use xlink:href=\"#mc81277f250\" x=\"105.663725\" y=\"81.75673\" style=\"fill: #1f77b4; stroke: #1f77b4\"/>\n     <use xlink:href=\"#mc81277f250\" x=\"88.219731\" y=\"51.106376\" style=\"fill: #1f77b4; stroke: #1f77b4\"/>\n     <use xlink:href=\"#mc81277f250\" x=\"118.526218\" y=\"73.303451\" style=\"fill: #1f77b4; stroke: #1f77b4\"/>\n     <use xlink:href=\"#mc81277f250\" x=\"142.315002\" y=\"86.1687\" style=\"fill: #1f77b4; stroke: #1f77b4\"/>\n     <use xlink:href=\"#mc81277f250\" x=\"153.731678\" y=\"118.947459\" style=\"fill: #1f77b4; stroke: #1f77b4\"/>\n     <use xlink:href=\"#mc81277f250\" x=\"135.93799\" y=\"76.022813\" style=\"fill: #1f77b4; stroke: #1f77b4\"/>\n     <use xlink:href=\"#mc81277f250\" x=\"120.803777\" y=\"77.628265\" style=\"fill: #1f77b4; stroke: #1f77b4\"/>\n     <use xlink:href=\"#mc81277f250\" x=\"74.902665\" y=\"54.664082\" style=\"fill: #1f77b4; stroke: #1f77b4\"/>\n     <use xlink:href=\"#mc81277f250\" x=\"164.618965\" y=\"98.432404\" style=\"fill: #1f77b4; stroke: #1f77b4\"/>\n     <use xlink:href=\"#mc81277f250\" x=\"101.376537\" y=\"68.690131\" style=\"fill: #1f77b4; stroke: #1f77b4\"/>\n     <use xlink:href=\"#mc81277f250\" x=\"93.082456\" y=\"66.799758\" style=\"fill: #1f77b4; stroke: #1f77b4\"/>\n     <use xlink:href=\"#mc81277f250\" x=\"108.749841\" y=\"61.102876\" style=\"fill: #1f77b4; stroke: #1f77b4\"/>\n     <use xlink:href=\"#mc81277f250\" x=\"127.937969\" y=\"87.93982\" style=\"fill: #1f77b4; stroke: #1f77b4\"/>\n     <use xlink:href=\"#mc81277f250\" x=\"148.708556\" y=\"98.502757\" style=\"fill: #1f77b4; stroke: #1f77b4\"/>\n     <use xlink:href=\"#mc81277f250\" x=\"145.407328\" y=\"91.494715\" style=\"fill: #1f77b4; stroke: #1f77b4\"/>\n     <use xlink:href=\"#mc81277f250\" x=\"184.825251\" y=\"116.994726\" style=\"fill: #1f77b4; stroke: #1f77b4\"/>\n     <use xlink:href=\"#mc81277f250\" x=\"173.869166\" y=\"109.844407\" style=\"fill: #1f77b4; stroke: #1f77b4\"/>\n     <use xlink:href=\"#mc81277f250\" x=\"131.139131\" y=\"89.708415\" style=\"fill: #1f77b4; stroke: #1f77b4\"/>\n     <use xlink:href=\"#mc81277f250\" x=\"129.839951\" y=\"93.882929\" style=\"fill: #1f77b4; stroke: #1f77b4\"/>\n     <use xlink:href=\"#mc81277f250\" x=\"109.463962\" y=\"60.249546\" style=\"fill: #1f77b4; stroke: #1f77b4\"/>\n     <use xlink:href=\"#mc81277f250\" x=\"103.393364\" y=\"62.930028\" style=\"fill: #1f77b4; stroke: #1f77b4\"/>\n     <use xlink:href=\"#mc81277f250\" x=\"132.039629\" y=\"99.203678\" style=\"fill: #1f77b4; stroke: #1f77b4\"/>\n     <use xlink:href=\"#mc81277f250\" x=\"116.064024\" y=\"69.734996\" style=\"fill: #1f77b4; stroke: #1f77b4\"/>\n     <use xlink:href=\"#mc81277f250\" x=\"105.744929\" y=\"76.221606\" style=\"fill: #1f77b4; stroke: #1f77b4\"/>\n     <use xlink:href=\"#mc81277f250\" x=\"151.011485\" y=\"114.070997\" style=\"fill: #1f77b4; stroke: #1f77b4\"/>\n     <use xlink:href=\"#mc81277f250\" x=\"199.934694\" y=\"129.053918\" style=\"fill: #1f77b4; stroke: #1f77b4\"/>\n     <use xlink:href=\"#mc81277f250\" x=\"126.419365\" y=\"82.852871\" style=\"fill: #1f77b4; stroke: #1f77b4\"/>\n     <use xlink:href=\"#mc81277f250\" x=\"84.308892\" y=\"59.229888\" style=\"fill: #1f77b4; stroke: #1f77b4\"/>\n     <use xlink:href=\"#mc81277f250\" x=\"146.065611\" y=\"92.368238\" style=\"fill: #1f77b4; stroke: #1f77b4\"/>\n     <use xlink:href=\"#mc81277f250\" x=\"65.204925\" y=\"41.257043\" style=\"fill: #1f77b4; stroke: #1f77b4\"/>\n     <use xlink:href=\"#mc81277f250\" x=\"148.732031\" y=\"94.765801\" style=\"fill: #1f77b4; stroke: #1f77b4\"/>\n     <use xlink:href=\"#mc81277f250\" x=\"102.321782\" y=\"67.442002\" style=\"fill: #1f77b4; stroke: #1f77b4\"/>\n     <use xlink:href=\"#mc81277f250\" x=\"121.604026\" y=\"95.470606\" style=\"fill: #1f77b4; stroke: #1f77b4\"/>\n     <use xlink:href=\"#mc81277f250\" x=\"102.351103\" y=\"65.907812\" style=\"fill: #1f77b4; stroke: #1f77b4\"/>\n     <use xlink:href=\"#mc81277f250\" x=\"133.261092\" y=\"84.781613\" style=\"fill: #1f77b4; stroke: #1f77b4\"/>\n     <use xlink:href=\"#mc81277f250\" x=\"152.434722\" y=\"111.737263\" style=\"fill: #1f77b4; stroke: #1f77b4\"/>\n     <use xlink:href=\"#mc81277f250\" x=\"133.039692\" y=\"86.262536\" style=\"fill: #1f77b4; stroke: #1f77b4\"/>\n     <use xlink:href=\"#mc81277f250\" x=\"156.795369\" y=\"103.760775\" style=\"fill: #1f77b4; stroke: #1f77b4\"/>\n     <use xlink:href=\"#mc81277f250\" x=\"121.824261\" y=\"74.674588\" style=\"fill: #1f77b4; stroke: #1f77b4\"/>\n     <use xlink:href=\"#mc81277f250\" x=\"109.262096\" y=\"71.473505\" style=\"fill: #1f77b4; stroke: #1f77b4\"/>\n     <use xlink:href=\"#mc81277f250\" x=\"117.704176\" y=\"80.173052\" style=\"fill: #1f77b4; stroke: #1f77b4\"/>\n     <use xlink:href=\"#mc81277f250\" x=\"172.68557\" y=\"88.504518\" style=\"fill: #1f77b4; stroke: #1f77b4\"/>\n     <use xlink:href=\"#mc81277f250\" x=\"155.256436\" y=\"95.217113\" style=\"fill: #1f77b4; stroke: #1f77b4\"/>\n     <use xlink:href=\"#mc81277f250\" x=\"133.46781\" y=\"83.246374\" style=\"fill: #1f77b4; stroke: #1f77b4\"/>\n     <use xlink:href=\"#mc81277f250\" x=\"90.845242\" y=\"79.194588\" style=\"fill: #1f77b4; stroke: #1f77b4\"/>\n     <use xlink:href=\"#mc81277f250\" x=\"143.573914\" y=\"106.304524\" style=\"fill: #1f77b4; stroke: #1f77b4\"/>\n     <use xlink:href=\"#mc81277f250\" x=\"96.732045\" y=\"65.182254\" style=\"fill: #1f77b4; stroke: #1f77b4\"/>\n     <use xlink:href=\"#mc81277f250\" x=\"125.583614\" y=\"74.021004\" style=\"fill: #1f77b4; stroke: #1f77b4\"/>\n     <use xlink:href=\"#mc81277f250\" x=\"118.884186\" y=\"80.21326\" style=\"fill: #1f77b4; stroke: #1f77b4\"/>\n     <use xlink:href=\"#mc81277f250\" x=\"175.032206\" y=\"111.593095\" style=\"fill: #1f77b4; stroke: #1f77b4\"/>\n     <use xlink:href=\"#mc81277f250\" x=\"126.120765\" y=\"65.624145\" style=\"fill: #1f77b4; stroke: #1f77b4\"/>\n     <use xlink:href=\"#mc81277f250\" x=\"175.134687\" y=\"101.723026\" style=\"fill: #1f77b4; stroke: #1f77b4\"/>\n     <use xlink:href=\"#mc81277f250\" x=\"92.914\" y=\"54.598206\" style=\"fill: #1f77b4; stroke: #1f77b4\"/>\n     <use xlink:href=\"#mc81277f250\" x=\"115.365465\" y=\"80.607298\" style=\"fill: #1f77b4; stroke: #1f77b4\"/>\n     <use xlink:href=\"#mc81277f250\" x=\"139.952281\" y=\"96.188871\" style=\"fill: #1f77b4; stroke: #1f77b4\"/>\n     <use xlink:href=\"#mc81277f250\" x=\"120.191458\" y=\"85.534129\" style=\"fill: #1f77b4; stroke: #1f77b4\"/>\n     <use xlink:href=\"#mc81277f250\" x=\"116.572652\" y=\"71.189995\" style=\"fill: #1f77b4; stroke: #1f77b4\"/>\n     <use xlink:href=\"#mc81277f250\" x=\"114.166279\" y=\"68.428042\" style=\"fill: #1f77b4; stroke: #1f77b4\"/>\n     <use xlink:href=\"#mc81277f250\" x=\"99.418486\" y=\"86.025919\" style=\"fill: #1f77b4; stroke: #1f77b4\"/>\n     <use xlink:href=\"#mc81277f250\" x=\"185.300288\" y=\"126.784614\" style=\"fill: #1f77b4; stroke: #1f77b4\"/>\n     <use xlink:href=\"#mc81277f250\" x=\"105.284742\" y=\"64.7452\" style=\"fill: #1f77b4; stroke: #1f77b4\"/>\n     <use xlink:href=\"#mc81277f250\" x=\"124.651975\" y=\"86.901883\" style=\"fill: #1f77b4; stroke: #1f77b4\"/>\n     <use xlink:href=\"#mc81277f250\" x=\"142.374166\" y=\"101.30702\" style=\"fill: #1f77b4; stroke: #1f77b4\"/>\n     <use xlink:href=\"#mc81277f250\" x=\"104.906227\" y=\"79.374206\" style=\"fill: #1f77b4; stroke: #1f77b4\"/>\n     <use xlink:href=\"#mc81277f250\" x=\"124.1385\" y=\"90.201997\" style=\"fill: #1f77b4; stroke: #1f77b4\"/>\n     <use xlink:href=\"#mc81277f250\" x=\"125.311533\" y=\"88.733422\" style=\"fill: #1f77b4; stroke: #1f77b4\"/>\n     <use xlink:href=\"#mc81277f250\" x=\"100.474678\" y=\"65.03761\" style=\"fill: #1f77b4; stroke: #1f77b4\"/>\n     <use xlink:href=\"#mc81277f250\" x=\"95.339557\" y=\"68.052849\" style=\"fill: #1f77b4; stroke: #1f77b4\"/>\n     <use xlink:href=\"#mc81277f250\" x=\"131.395117\" y=\"82.968105\" style=\"fill: #1f77b4; stroke: #1f77b4\"/>\n     <use xlink:href=\"#mc81277f250\" x=\"174.543612\" y=\"117.328073\" style=\"fill: #1f77b4; stroke: #1f77b4\"/>\n     <use xlink:href=\"#mc81277f250\" x=\"104.044541\" y=\"72.217492\" style=\"fill: #1f77b4; stroke: #1f77b4\"/>\n     <use xlink:href=\"#mc81277f250\" x=\"120.20522\" y=\"64.676399\" style=\"fill: #1f77b4; stroke: #1f77b4\"/>\n     <use xlink:href=\"#mc81277f250\" x=\"115.84996\" y=\"84.694996\" style=\"fill: #1f77b4; stroke: #1f77b4\"/>\n     <use xlink:href=\"#mc81277f250\" x=\"177.366175\" y=\"138.953412\" style=\"fill: #1f77b4; stroke: #1f77b4\"/>\n     <use xlink:href=\"#mc81277f250\" x=\"154.328108\" y=\"106.702297\" style=\"fill: #1f77b4; stroke: #1f77b4\"/>\n     <use xlink:href=\"#mc81277f250\" x=\"128.539393\" y=\"75.61707\" style=\"fill: #1f77b4; stroke: #1f77b4\"/>\n     <use xlink:href=\"#mc81277f250\" x=\"127.730856\" y=\"78.357521\" style=\"fill: #1f77b4; stroke: #1f77b4\"/>\n     <use xlink:href=\"#mc81277f250\" x=\"145.647845\" y=\"83.031762\" style=\"fill: #1f77b4; stroke: #1f77b4\"/>\n     <use xlink:href=\"#mc81277f250\" x=\"165.468473\" y=\"112.623159\" style=\"fill: #1f77b4; stroke: #1f77b4\"/>\n     <use xlink:href=\"#mc81277f250\" x=\"128.851362\" y=\"94.672193\" style=\"fill: #1f77b4; stroke: #1f77b4\"/>\n     <use xlink:href=\"#mc81277f250\" x=\"106.623651\" y=\"58.311048\" style=\"fill: #1f77b4; stroke: #1f77b4\"/>\n     <use xlink:href=\"#mc81277f250\" x=\"174.212593\" y=\"116.044478\" style=\"fill: #1f77b4; stroke: #1f77b4\"/>\n     <use xlink:href=\"#mc81277f250\" x=\"142.85593\" y=\"97.985592\" style=\"fill: #1f77b4; stroke: #1f77b4\"/>\n     <use xlink:href=\"#mc81277f250\" x=\"138.026291\" y=\"71.589486\" style=\"fill: #1f77b4; stroke: #1f77b4\"/>\n     <use xlink:href=\"#mc81277f250\" x=\"110.079439\" y=\"80.028023\" style=\"fill: #1f77b4; stroke: #1f77b4\"/>\n     <use xlink:href=\"#mc81277f250\" x=\"115.581478\" y=\"90.61827\" style=\"fill: #1f77b4; stroke: #1f77b4\"/>\n     <use xlink:href=\"#mc81277f250\" x=\"153.038777\" y=\"96.368067\" style=\"fill: #1f77b4; stroke: #1f77b4\"/>\n     <use xlink:href=\"#mc81277f250\" x=\"119.914903\" y=\"76.274796\" style=\"fill: #1f77b4; stroke: #1f77b4\"/>\n     <use xlink:href=\"#mc81277f250\" x=\"130.660224\" y=\"86.081469\" style=\"fill: #1f77b4; stroke: #1f77b4\"/>\n     <use xlink:href=\"#mc81277f250\" x=\"115.069644\" y=\"82.75276\" style=\"fill: #1f77b4; stroke: #1f77b4\"/>\n     <use xlink:href=\"#mc81277f250\" x=\"95.151418\" y=\"60.29558\" style=\"fill: #1f77b4; stroke: #1f77b4\"/>\n     <use xlink:href=\"#mc81277f250\" x=\"167.729635\" y=\"110.53007\" style=\"fill: #1f77b4; stroke: #1f77b4\"/>\n     <use xlink:href=\"#mc81277f250\" x=\"140.827039\" y=\"86.804909\" style=\"fill: #1f77b4; stroke: #1f77b4\"/>\n     <use xlink:href=\"#mc81277f250\" x=\"131.414339\" y=\"89.080612\" style=\"fill: #1f77b4; stroke: #1f77b4\"/>\n     <use xlink:href=\"#mc81277f250\" x=\"129.479215\" y=\"74.556208\" style=\"fill: #1f77b4; stroke: #1f77b4\"/>\n     <use xlink:href=\"#mc81277f250\" x=\"80.588107\" y=\"64.52921\" style=\"fill: #1f77b4; stroke: #1f77b4\"/>\n     <use xlink:href=\"#mc81277f250\" x=\"90.820764\" y=\"56.693009\" style=\"fill: #1f77b4; stroke: #1f77b4\"/>\n     <use xlink:href=\"#mc81277f250\" x=\"157.737623\" y=\"97.554634\" style=\"fill: #1f77b4; stroke: #1f77b4\"/>\n     <use xlink:href=\"#mc81277f250\" x=\"137.493044\" y=\"82.375771\" style=\"fill: #1f77b4; stroke: #1f77b4\"/>\n     <use xlink:href=\"#mc81277f250\" x=\"165.974053\" y=\"100.387176\" style=\"fill: #1f77b4; stroke: #1f77b4\"/>\n     <use xlink:href=\"#mc81277f250\" x=\"118.239522\" y=\"87.746232\" style=\"fill: #1f77b4; stroke: #1f77b4\"/>\n     <use xlink:href=\"#mc81277f250\" x=\"148.445523\" y=\"86.775154\" style=\"fill: #1f77b4; stroke: #1f77b4\"/>\n     <use xlink:href=\"#mc81277f250\" x=\"84.131987\" y=\"42.565112\" style=\"fill: #1f77b4; stroke: #1f77b4\"/>\n     <use xlink:href=\"#mc81277f250\" x=\"127.24284\" y=\"76.227938\" style=\"fill: #1f77b4; stroke: #1f77b4\"/>\n     <use xlink:href=\"#mc81277f250\" x=\"115.300199\" y=\"89.539012\" style=\"fill: #1f77b4; stroke: #1f77b4\"/>\n     <use xlink:href=\"#mc81277f250\" x=\"126.568177\" y=\"76.434186\" style=\"fill: #1f77b4; stroke: #1f77b4\"/>\n     <use xlink:href=\"#mc81277f250\" x=\"121.898147\" y=\"66.340597\" style=\"fill: #1f77b4; stroke: #1f77b4\"/>\n     <use xlink:href=\"#mc81277f250\" x=\"157.082122\" y=\"93.920506\" style=\"fill: #1f77b4; stroke: #1f77b4\"/>\n     <use xlink:href=\"#mc81277f250\" x=\"128.896312\" y=\"101.286238\" style=\"fill: #1f77b4; stroke: #1f77b4\"/>\n     <use xlink:href=\"#mc81277f250\" x=\"158.444614\" y=\"96.660599\" style=\"fill: #1f77b4; stroke: #1f77b4\"/>\n     <use xlink:href=\"#mc81277f250\" x=\"150.12165\" y=\"102.158896\" style=\"fill: #1f77b4; stroke: #1f77b4\"/>\n     <use xlink:href=\"#mc81277f250\" x=\"116.012141\" y=\"71.802599\" style=\"fill: #1f77b4; stroke: #1f77b4\"/>\n     <use xlink:href=\"#mc81277f250\" x=\"122.564103\" y=\"78.33261\" style=\"fill: #1f77b4; stroke: #1f77b4\"/>\n     <use xlink:href=\"#mc81277f250\" x=\"174.291786\" y=\"112.374014\" style=\"fill: #1f77b4; stroke: #1f77b4\"/>\n     <use xlink:href=\"#mc81277f250\" x=\"157.858375\" y=\"94.535709\" style=\"fill: #1f77b4; stroke: #1f77b4\"/>\n     <use xlink:href=\"#mc81277f250\" x=\"114.731108\" y=\"77.428514\" style=\"fill: #1f77b4; stroke: #1f77b4\"/>\n     <use xlink:href=\"#mc81277f250\" x=\"131.092251\" y=\"84.443683\" style=\"fill: #1f77b4; stroke: #1f77b4\"/>\n     <use xlink:href=\"#mc81277f250\" x=\"121.946543\" y=\"85.51671\" style=\"fill: #1f77b4; stroke: #1f77b4\"/>\n     <use xlink:href=\"#mc81277f250\" x=\"178.04062\" y=\"109.823296\" style=\"fill: #1f77b4; stroke: #1f77b4\"/>\n     <use xlink:href=\"#mc81277f250\" x=\"126.125462\" y=\"77.386374\" style=\"fill: #1f77b4; stroke: #1f77b4\"/>\n     <use xlink:href=\"#mc81277f250\" x=\"96.896375\" y=\"68.757174\" style=\"fill: #1f77b4; stroke: #1f77b4\"/>\n     <use xlink:href=\"#mc81277f250\" x=\"151.728038\" y=\"89.570356\" style=\"fill: #1f77b4; stroke: #1f77b4\"/>\n     <use xlink:href=\"#mc81277f250\" x=\"178.449832\" y=\"114.093199\" style=\"fill: #1f77b4; stroke: #1f77b4\"/>\n     <use xlink:href=\"#mc81277f250\" x=\"140.577304\" y=\"83.583841\" style=\"fill: #1f77b4; stroke: #1f77b4\"/>\n     <use xlink:href=\"#mc81277f250\" x=\"152.880757\" y=\"91.534209\" style=\"fill: #1f77b4; stroke: #1f77b4\"/>\n     <use xlink:href=\"#mc81277f250\" x=\"184.801873\" y=\"117.905252\" style=\"fill: #1f77b4; stroke: #1f77b4\"/>\n     <use xlink:href=\"#mc81277f250\" x=\"140.67559\" y=\"93.770121\" style=\"fill: #1f77b4; stroke: #1f77b4\"/>\n     <use xlink:href=\"#mc81277f250\" x=\"172.501077\" y=\"110.453696\" style=\"fill: #1f77b4; stroke: #1f77b4\"/>\n     <use xlink:href=\"#mc81277f250\" x=\"143.665613\" y=\"105.407466\" style=\"fill: #1f77b4; stroke: #1f77b4\"/>\n     <use xlink:href=\"#mc81277f250\" x=\"122.974159\" y=\"95.414684\" style=\"fill: #1f77b4; stroke: #1f77b4\"/>\n     <use xlink:href=\"#mc81277f250\" x=\"71.093882\" y=\"43.211219\" style=\"fill: #1f77b4; stroke: #1f77b4\"/>\n     <use xlink:href=\"#mc81277f250\" x=\"156.492422\" y=\"100.173626\" style=\"fill: #1f77b4; stroke: #1f77b4\"/>\n     <use xlink:href=\"#mc81277f250\" x=\"116.727183\" y=\"87.433612\" style=\"fill: #1f77b4; stroke: #1f77b4\"/>\n     <use xlink:href=\"#mc81277f250\" x=\"165.650041\" y=\"95.963442\" style=\"fill: #1f77b4; stroke: #1f77b4\"/>\n     <use xlink:href=\"#mc81277f250\" x=\"122.618281\" y=\"83.497229\" style=\"fill: #1f77b4; stroke: #1f77b4\"/>\n     <use xlink:href=\"#mc81277f250\" x=\"115.461443\" y=\"74.003233\" style=\"fill: #1f77b4; stroke: #1f77b4\"/>\n     <use xlink:href=\"#mc81277f250\" x=\"177.447784\" y=\"97.965345\" style=\"fill: #1f77b4; stroke: #1f77b4\"/>\n     <use xlink:href=\"#mc81277f250\" x=\"178.752568\" y=\"118.079711\" style=\"fill: #1f77b4; stroke: #1f77b4\"/>\n     <use xlink:href=\"#mc81277f250\" x=\"166.02258\" y=\"112.331167\" style=\"fill: #1f77b4; stroke: #1f77b4\"/>\n     <use xlink:href=\"#mc81277f250\" x=\"118.960584\" y=\"82.575349\" style=\"fill: #1f77b4; stroke: #1f77b4\"/>\n     <use xlink:href=\"#mc81277f250\" x=\"120.676343\" y=\"86.869287\" style=\"fill: #1f77b4; stroke: #1f77b4\"/>\n     <use xlink:href=\"#mc81277f250\" x=\"135.734756\" y=\"83.03852\" style=\"fill: #1f77b4; stroke: #1f77b4\"/>\n     <use xlink:href=\"#mc81277f250\" x=\"161.220659\" y=\"101.10053\" style=\"fill: #1f77b4; stroke: #1f77b4\"/>\n     <use xlink:href=\"#mc81277f250\" x=\"104.521618\" y=\"60.571816\" style=\"fill: #1f77b4; stroke: #1f77b4\"/>\n     <use xlink:href=\"#mc81277f250\" x=\"127.176022\" y=\"82.385113\" style=\"fill: #1f77b4; stroke: #1f77b4\"/>\n     <use xlink:href=\"#mc81277f250\" x=\"104.345467\" y=\"70.055245\" style=\"fill: #1f77b4; stroke: #1f77b4\"/>\n     <use xlink:href=\"#mc81277f250\" x=\"147.674222\" y=\"102.504573\" style=\"fill: #1f77b4; stroke: #1f77b4\"/>\n     <use xlink:href=\"#mc81277f250\" x=\"146.094756\" y=\"99.755239\" style=\"fill: #1f77b4; stroke: #1f77b4\"/>\n     <use xlink:href=\"#mc81277f250\" x=\"114.365001\" y=\"84.596156\" style=\"fill: #1f77b4; stroke: #1f77b4\"/>\n     <use xlink:href=\"#mc81277f250\" x=\"117.885342\" y=\"70.212581\" style=\"fill: #1f77b4; stroke: #1f77b4\"/>\n     <use xlink:href=\"#mc81277f250\" x=\"136.919122\" y=\"96.753866\" style=\"fill: #1f77b4; stroke: #1f77b4\"/>\n     <use xlink:href=\"#mc81277f250\" x=\"121.430893\" y=\"72.217613\" style=\"fill: #1f77b4; stroke: #1f77b4\"/>\n     <use xlink:href=\"#mc81277f250\" x=\"97.638965\" y=\"68.733096\" style=\"fill: #1f77b4; stroke: #1f77b4\"/>\n     <use xlink:href=\"#mc81277f250\" x=\"116.063961\" y=\"79.17318\" style=\"fill: #1f77b4; stroke: #1f77b4\"/>\n     <use xlink:href=\"#mc81277f250\" x=\"83.750513\" y=\"54.973366\" style=\"fill: #1f77b4; stroke: #1f77b4\"/>\n     <use xlink:href=\"#mc81277f250\" x=\"127.905286\" y=\"84.117769\" style=\"fill: #1f77b4; stroke: #1f77b4\"/>\n     <use xlink:href=\"#mc81277f250\" x=\"110.167987\" y=\"81.627786\" style=\"fill: #1f77b4; stroke: #1f77b4\"/>\n     <use xlink:href=\"#mc81277f250\" x=\"113.660943\" y=\"70.86621\" style=\"fill: #1f77b4; stroke: #1f77b4\"/>\n     <use xlink:href=\"#mc81277f250\" x=\"113.351417\" y=\"67.249958\" style=\"fill: #1f77b4; stroke: #1f77b4\"/>\n     <use xlink:href=\"#mc81277f250\" x=\"166.098527\" y=\"105.519169\" style=\"fill: #1f77b4; stroke: #1f77b4\"/>\n     <use xlink:href=\"#mc81277f250\" x=\"115.408556\" y=\"60.103163\" style=\"fill: #1f77b4; stroke: #1f77b4\"/>\n     <use xlink:href=\"#mc81277f250\" x=\"91.900295\" y=\"56.219477\" style=\"fill: #1f77b4; stroke: #1f77b4\"/>\n     <use xlink:href=\"#mc81277f250\" x=\"109.266682\" y=\"94.562739\" style=\"fill: #1f77b4; stroke: #1f77b4\"/>\n     <use xlink:href=\"#mc81277f250\" x=\"63.692007\" y=\"48.089955\" style=\"fill: #1f77b4; stroke: #1f77b4\"/>\n     <use xlink:href=\"#mc81277f250\" x=\"106.770258\" y=\"86.377796\" style=\"fill: #1f77b4; stroke: #1f77b4\"/>\n     <use xlink:href=\"#mc81277f250\" x=\"147.708709\" y=\"90.452545\" style=\"fill: #1f77b4; stroke: #1f77b4\"/>\n     <use xlink:href=\"#mc81277f250\" x=\"76.061471\" y=\"62.42595\" style=\"fill: #1f77b4; stroke: #1f77b4\"/>\n     <use xlink:href=\"#mc81277f250\" x=\"111.077005\" y=\"82.214446\" style=\"fill: #1f77b4; stroke: #1f77b4\"/>\n     <use xlink:href=\"#mc81277f250\" x=\"95.460157\" y=\"65.174984\" style=\"fill: #1f77b4; stroke: #1f77b4\"/>\n     <use xlink:href=\"#mc81277f250\" x=\"126.68209\" y=\"92.695154\" style=\"fill: #1f77b4; stroke: #1f77b4\"/>\n     <use xlink:href=\"#mc81277f250\" x=\"151.061931\" y=\"92.907227\" style=\"fill: #1f77b4; stroke: #1f77b4\"/>\n     <use xlink:href=\"#mc81277f250\" x=\"129.857939\" y=\"89.358288\" style=\"fill: #1f77b4; stroke: #1f77b4\"/>\n     <use xlink:href=\"#mc81277f250\" x=\"168.739469\" y=\"116.357239\" style=\"fill: #1f77b4; stroke: #1f77b4\"/>\n     <use xlink:href=\"#mc81277f250\" x=\"136.188182\" y=\"66.719653\" style=\"fill: #1f77b4; stroke: #1f77b4\"/>\n     <use xlink:href=\"#mc81277f250\" x=\"78.450287\" y=\"55.048367\" style=\"fill: #1f77b4; stroke: #1f77b4\"/>\n     <use xlink:href=\"#mc81277f250\" x=\"91.423144\" y=\"66.888067\" style=\"fill: #1f77b4; stroke: #1f77b4\"/>\n     <use xlink:href=\"#mc81277f250\" x=\"120.038284\" y=\"84.056936\" style=\"fill: #1f77b4; stroke: #1f77b4\"/>\n     <use xlink:href=\"#mc81277f250\" x=\"129.651631\" y=\"74.354923\" style=\"fill: #1f77b4; stroke: #1f77b4\"/>\n     <use xlink:href=\"#mc81277f250\" x=\"93.857374\" y=\"69.26339\" style=\"fill: #1f77b4; stroke: #1f77b4\"/>\n     <use xlink:href=\"#mc81277f250\" x=\"96.694872\" y=\"48.594007\" style=\"fill: #1f77b4; stroke: #1f77b4\"/>\n     <use xlink:href=\"#mc81277f250\" x=\"157.553797\" y=\"97.615642\" style=\"fill: #1f77b4; stroke: #1f77b4\"/>\n     <use xlink:href=\"#mc81277f250\" x=\"163.988432\" y=\"97.131635\" style=\"fill: #1f77b4; stroke: #1f77b4\"/>\n     <use xlink:href=\"#mc81277f250\" x=\"98.861773\" y=\"71.923945\" style=\"fill: #1f77b4; stroke: #1f77b4\"/>\n     <use xlink:href=\"#mc81277f250\" x=\"128.60626\" y=\"81.150199\" style=\"fill: #1f77b4; stroke: #1f77b4\"/>\n     <use xlink:href=\"#mc81277f250\" x=\"132.604492\" y=\"78.018642\" style=\"fill: #1f77b4; stroke: #1f77b4\"/>\n     <use xlink:href=\"#mc81277f250\" x=\"87.429764\" y=\"68.643292\" style=\"fill: #1f77b4; stroke: #1f77b4\"/>\n     <use xlink:href=\"#mc81277f250\" x=\"136.335672\" y=\"86.098137\" style=\"fill: #1f77b4; stroke: #1f77b4\"/>\n     <use xlink:href=\"#mc81277f250\" x=\"143.302918\" y=\"106.949185\" style=\"fill: #1f77b4; stroke: #1f77b4\"/>\n     <use xlink:href=\"#mc81277f250\" x=\"111.473623\" y=\"72.322058\" style=\"fill: #1f77b4; stroke: #1f77b4\"/>\n     <use xlink:href=\"#mc81277f250\" x=\"97.591491\" y=\"66.017173\" style=\"fill: #1f77b4; stroke: #1f77b4\"/>\n     <use xlink:href=\"#mc81277f250\" x=\"158.994939\" y=\"90.854693\" style=\"fill: #1f77b4; stroke: #1f77b4\"/>\n     <use xlink:href=\"#mc81277f250\" x=\"138.817363\" y=\"87.235691\" style=\"fill: #1f77b4; stroke: #1f77b4\"/>\n     <use xlink:href=\"#mc81277f250\" x=\"164.94522\" y=\"111.560607\" style=\"fill: #1f77b4; stroke: #1f77b4\"/>\n     <use xlink:href=\"#mc81277f250\" x=\"167.577373\" y=\"116.365537\" style=\"fill: #1f77b4; stroke: #1f77b4\"/>\n     <use xlink:href=\"#mc81277f250\" x=\"113.099531\" y=\"89.100407\" style=\"fill: #1f77b4; stroke: #1f77b4\"/>\n     <use xlink:href=\"#mc81277f250\" x=\"152.718311\" y=\"96.627038\" style=\"fill: #1f77b4; stroke: #1f77b4\"/>\n     <use xlink:href=\"#mc81277f250\" x=\"131.702412\" y=\"92.429334\" style=\"fill: #1f77b4; stroke: #1f77b4\"/>\n     <use xlink:href=\"#mc81277f250\" x=\"101.243923\" y=\"50.560604\" style=\"fill: #1f77b4; stroke: #1f77b4\"/>\n     <use xlink:href=\"#mc81277f250\" x=\"145.291685\" y=\"97.741518\" style=\"fill: #1f77b4; stroke: #1f77b4\"/>\n     <use xlink:href=\"#mc81277f250\" x=\"128.937471\" y=\"82.434142\" style=\"fill: #1f77b4; stroke: #1f77b4\"/>\n     <use xlink:href=\"#mc81277f250\" x=\"150.484558\" y=\"102.151\" style=\"fill: #1f77b4; stroke: #1f77b4\"/>\n     <use xlink:href=\"#mc81277f250\" x=\"66.770276\" y=\"59.979997\" style=\"fill: #1f77b4; stroke: #1f77b4\"/>\n     <use xlink:href=\"#mc81277f250\" x=\"118.55474\" y=\"74.156941\" style=\"fill: #1f77b4; stroke: #1f77b4\"/>\n     <use xlink:href=\"#mc81277f250\" x=\"150.59991\" y=\"106.309102\" style=\"fill: #1f77b4; stroke: #1f77b4\"/>\n     <use xlink:href=\"#mc81277f250\" x=\"83.374143\" y=\"56.229904\" style=\"fill: #1f77b4; stroke: #1f77b4\"/>\n     <use xlink:href=\"#mc81277f250\" x=\"70.209352\" y=\"50.979991\" style=\"fill: #1f77b4; stroke: #1f77b4\"/>\n     <use xlink:href=\"#mc81277f250\" x=\"170.056247\" y=\"119.722144\" style=\"fill: #1f77b4; stroke: #1f77b4\"/>\n     <use xlink:href=\"#mc81277f250\" x=\"128.820924\" y=\"82.536205\" style=\"fill: #1f77b4; stroke: #1f77b4\"/>\n     <use xlink:href=\"#mc81277f250\" x=\"107.821077\" y=\"67.331776\" style=\"fill: #1f77b4; stroke: #1f77b4\"/>\n     <use xlink:href=\"#mc81277f250\" x=\"91.11306\" y=\"58.425866\" style=\"fill: #1f77b4; stroke: #1f77b4\"/>\n     <use xlink:href=\"#mc81277f250\" x=\"99.756526\" y=\"63.614818\" style=\"fill: #1f77b4; stroke: #1f77b4\"/>\n     <use xlink:href=\"#mc81277f250\" x=\"88.0632\" y=\"52.122526\" style=\"fill: #1f77b4; stroke: #1f77b4\"/>\n     <use xlink:href=\"#mc81277f250\" x=\"102.28408\" y=\"70.771007\" style=\"fill: #1f77b4; stroke: #1f77b4\"/>\n     <use xlink:href=\"#mc81277f250\" x=\"152.916104\" y=\"101.913298\" style=\"fill: #1f77b4; stroke: #1f77b4\"/>\n     <use xlink:href=\"#mc81277f250\" x=\"141.110757\" y=\"90.524346\" style=\"fill: #1f77b4; stroke: #1f77b4\"/>\n     <use xlink:href=\"#mc81277f250\" x=\"155.00756\" y=\"87.240241\" style=\"fill: #1f77b4; stroke: #1f77b4\"/>\n     <use xlink:href=\"#mc81277f250\" x=\"117.091619\" y=\"81.254852\" style=\"fill: #1f77b4; stroke: #1f77b4\"/>\n     <use xlink:href=\"#mc81277f250\" x=\"174.298386\" y=\"97.313072\" style=\"fill: #1f77b4; stroke: #1f77b4\"/>\n     <use xlink:href=\"#mc81277f250\" x=\"88.231502\" y=\"58.94693\" style=\"fill: #1f77b4; stroke: #1f77b4\"/>\n     <use xlink:href=\"#mc81277f250\" x=\"99.658704\" y=\"71.347068\" style=\"fill: #1f77b4; stroke: #1f77b4\"/>\n     <use xlink:href=\"#mc81277f250\" x=\"120.89073\" y=\"79.69298\" style=\"fill: #1f77b4; stroke: #1f77b4\"/>\n     <use xlink:href=\"#mc81277f250\" x=\"102.6816\" y=\"60.574422\" style=\"fill: #1f77b4; stroke: #1f77b4\"/>\n     <use xlink:href=\"#mc81277f250\" x=\"143.492468\" y=\"91.286912\" style=\"fill: #1f77b4; stroke: #1f77b4\"/>\n     <use xlink:href=\"#mc81277f250\" x=\"127.637121\" y=\"79.250069\" style=\"fill: #1f77b4; stroke: #1f77b4\"/>\n     <use xlink:href=\"#mc81277f250\" x=\"123.169114\" y=\"85.637574\" style=\"fill: #1f77b4; stroke: #1f77b4\"/>\n     <use xlink:href=\"#mc81277f250\" x=\"116.124191\" y=\"52.072721\" style=\"fill: #1f77b4; stroke: #1f77b4\"/>\n     <use xlink:href=\"#mc81277f250\" x=\"119.801017\" y=\"79.405539\" style=\"fill: #1f77b4; stroke: #1f77b4\"/>\n     <use xlink:href=\"#mc81277f250\" x=\"156.021297\" y=\"116.034612\" style=\"fill: #1f77b4; stroke: #1f77b4\"/>\n     <use xlink:href=\"#mc81277f250\" x=\"134.196836\" y=\"93.149558\" style=\"fill: #1f77b4; stroke: #1f77b4\"/>\n     <use xlink:href=\"#mc81277f250\" x=\"136.947128\" y=\"77.190952\" style=\"fill: #1f77b4; stroke: #1f77b4\"/>\n     <use xlink:href=\"#mc81277f250\" x=\"148.209652\" y=\"90.289716\" style=\"fill: #1f77b4; stroke: #1f77b4\"/>\n     <use xlink:href=\"#mc81277f250\" x=\"143.682411\" y=\"96.53405\" style=\"fill: #1f77b4; stroke: #1f77b4\"/>\n     <use xlink:href=\"#mc81277f250\" x=\"122.938621\" y=\"84.498819\" style=\"fill: #1f77b4; stroke: #1f77b4\"/>\n     <use xlink:href=\"#mc81277f250\" x=\"166.834123\" y=\"100.231267\" style=\"fill: #1f77b4; stroke: #1f77b4\"/>\n     <use xlink:href=\"#mc81277f250\" x=\"135.073552\" y=\"71.103173\" style=\"fill: #1f77b4; stroke: #1f77b4\"/>\n     <use xlink:href=\"#mc81277f250\" x=\"143.163213\" y=\"92.78019\" style=\"fill: #1f77b4; stroke: #1f77b4\"/>\n     <use xlink:href=\"#mc81277f250\" x=\"158.306457\" y=\"104.033997\" style=\"fill: #1f77b4; stroke: #1f77b4\"/>\n     <use xlink:href=\"#mc81277f250\" x=\"129.832929\" y=\"83.307515\" style=\"fill: #1f77b4; stroke: #1f77b4\"/>\n     <use xlink:href=\"#mc81277f250\" x=\"108.208293\" y=\"73.77469\" style=\"fill: #1f77b4; stroke: #1f77b4\"/>\n     <use xlink:href=\"#mc81277f250\" x=\"124.36802\" y=\"82.303343\" style=\"fill: #1f77b4; stroke: #1f77b4\"/>\n     <use xlink:href=\"#mc81277f250\" x=\"139.558956\" y=\"87.168381\" style=\"fill: #1f77b4; stroke: #1f77b4\"/>\n     <use xlink:href=\"#mc81277f250\" x=\"107.096649\" y=\"72.166365\" style=\"fill: #1f77b4; stroke: #1f77b4\"/>\n     <use xlink:href=\"#mc81277f250\" x=\"119.154165\" y=\"73.375918\" style=\"fill: #1f77b4; stroke: #1f77b4\"/>\n     <use xlink:href=\"#mc81277f250\" x=\"162.254331\" y=\"107.439187\" style=\"fill: #1f77b4; stroke: #1f77b4\"/>\n     <use xlink:href=\"#mc81277f250\" x=\"100.305116\" y=\"62.594038\" style=\"fill: #1f77b4; stroke: #1f77b4\"/>\n     <use xlink:href=\"#mc81277f250\" x=\"130.27234\" y=\"85.252633\" style=\"fill: #1f77b4; stroke: #1f77b4\"/>\n     <use xlink:href=\"#mc81277f250\" x=\"129.189095\" y=\"86.11042\" style=\"fill: #1f77b4; stroke: #1f77b4\"/>\n     <use xlink:href=\"#mc81277f250\" x=\"163.264925\" y=\"86.032517\" style=\"fill: #1f77b4; stroke: #1f77b4\"/>\n     <use xlink:href=\"#mc81277f250\" x=\"127.526824\" y=\"85.149164\" style=\"fill: #1f77b4; stroke: #1f77b4\"/>\n     <use xlink:href=\"#mc81277f250\" x=\"127.940613\" y=\"89.72423\" style=\"fill: #1f77b4; stroke: #1f77b4\"/>\n     <use xlink:href=\"#mc81277f250\" x=\"136.828368\" y=\"93.548427\" style=\"fill: #1f77b4; stroke: #1f77b4\"/>\n     <use xlink:href=\"#mc81277f250\" x=\"146.911751\" y=\"107.199445\" style=\"fill: #1f77b4; stroke: #1f77b4\"/>\n     <use xlink:href=\"#mc81277f250\" x=\"126.500976\" y=\"65.784479\" style=\"fill: #1f77b4; stroke: #1f77b4\"/>\n     <use xlink:href=\"#mc81277f250\" x=\"120.554727\" y=\"77.517668\" style=\"fill: #1f77b4; stroke: #1f77b4\"/>\n     <use xlink:href=\"#mc81277f250\" x=\"158.210622\" y=\"101.602587\" style=\"fill: #1f77b4; stroke: #1f77b4\"/>\n     <use xlink:href=\"#mc81277f250\" x=\"115.861662\" y=\"65.691302\" style=\"fill: #1f77b4; stroke: #1f77b4\"/>\n     <use xlink:href=\"#mc81277f250\" x=\"120.492744\" y=\"92.412017\" style=\"fill: #1f77b4; stroke: #1f77b4\"/>\n     <use xlink:href=\"#mc81277f250\" x=\"105.806982\" y=\"68.160808\" style=\"fill: #1f77b4; stroke: #1f77b4\"/>\n     <use xlink:href=\"#mc81277f250\" x=\"147.332712\" y=\"97.31703\" style=\"fill: #1f77b4; stroke: #1f77b4\"/>\n     <use xlink:href=\"#mc81277f250\" x=\"77.927671\" y=\"35.975936\" style=\"fill: #1f77b4; stroke: #1f77b4\"/>\n     <use xlink:href=\"#mc81277f250\" x=\"157.674305\" y=\"95.708938\" style=\"fill: #1f77b4; stroke: #1f77b4\"/>\n     <use xlink:href=\"#mc81277f250\" x=\"141.460441\" y=\"90.371514\" style=\"fill: #1f77b4; stroke: #1f77b4\"/>\n     <use xlink:href=\"#mc81277f250\" x=\"111.762837\" y=\"81.401271\" style=\"fill: #1f77b4; stroke: #1f77b4\"/>\n     <use xlink:href=\"#mc81277f250\" x=\"135.889104\" y=\"84.467749\" style=\"fill: #1f77b4; stroke: #1f77b4\"/>\n     <use xlink:href=\"#mc81277f250\" x=\"145.564764\" y=\"95.572314\" style=\"fill: #1f77b4; stroke: #1f77b4\"/>\n     <use xlink:href=\"#mc81277f250\" x=\"133.687074\" y=\"99.591478\" style=\"fill: #1f77b4; stroke: #1f77b4\"/>\n     <use xlink:href=\"#mc81277f250\" x=\"167.560917\" y=\"108.303029\" style=\"fill: #1f77b4; stroke: #1f77b4\"/>\n     <use xlink:href=\"#mc81277f250\" x=\"94.486112\" y=\"59.999856\" style=\"fill: #1f77b4; stroke: #1f77b4\"/>\n     <use xlink:href=\"#mc81277f250\" x=\"83.351589\" y=\"52.328235\" style=\"fill: #1f77b4; stroke: #1f77b4\"/>\n     <use xlink:href=\"#mc81277f250\" x=\"140.027776\" y=\"88.748539\" style=\"fill: #1f77b4; stroke: #1f77b4\"/>\n     <use xlink:href=\"#mc81277f250\" x=\"114.153371\" y=\"78.164423\" style=\"fill: #1f77b4; stroke: #1f77b4\"/>\n     <use xlink:href=\"#mc81277f250\" x=\"107.515743\" y=\"63.350494\" style=\"fill: #1f77b4; stroke: #1f77b4\"/>\n     <use xlink:href=\"#mc81277f250\" x=\"119.273051\" y=\"78.698569\" style=\"fill: #1f77b4; stroke: #1f77b4\"/>\n     <use xlink:href=\"#mc81277f250\" x=\"140.289318\" y=\"76.873365\" style=\"fill: #1f77b4; stroke: #1f77b4\"/>\n     <use xlink:href=\"#mc81277f250\" x=\"132.715053\" y=\"96.673503\" style=\"fill: #1f77b4; stroke: #1f77b4\"/>\n     <use xlink:href=\"#mc81277f250\" x=\"64.347911\" y=\"49.257617\" style=\"fill: #1f77b4; stroke: #1f77b4\"/>\n     <use xlink:href=\"#mc81277f250\" x=\"109.513012\" y=\"75.849848\" style=\"fill: #1f77b4; stroke: #1f77b4\"/>\n     <use xlink:href=\"#mc81277f250\" x=\"121.155818\" y=\"81.120533\" style=\"fill: #1f77b4; stroke: #1f77b4\"/>\n     <use xlink:href=\"#mc81277f250\" x=\"46.708069\" y=\"37.881343\" style=\"fill: #1f77b4; stroke: #1f77b4\"/>\n     <use xlink:href=\"#mc81277f250\" x=\"124.351366\" y=\"76.339555\" style=\"fill: #1f77b4; stroke: #1f77b4\"/>\n     <use xlink:href=\"#mc81277f250\" x=\"133.357762\" y=\"74.975752\" style=\"fill: #1f77b4; stroke: #1f77b4\"/>\n     <use xlink:href=\"#mc81277f250\" x=\"111.507151\" y=\"65.856542\" style=\"fill: #1f77b4; stroke: #1f77b4\"/>\n     <use xlink:href=\"#mc81277f250\" x=\"142.331131\" y=\"92.875754\" style=\"fill: #1f77b4; stroke: #1f77b4\"/>\n     <use xlink:href=\"#mc81277f250\" x=\"135.832617\" y=\"88.406263\" style=\"fill: #1f77b4; stroke: #1f77b4\"/>\n     <use xlink:href=\"#mc81277f250\" x=\"110.434303\" y=\"80.041466\" style=\"fill: #1f77b4; stroke: #1f77b4\"/>\n     <use xlink:href=\"#mc81277f250\" x=\"137.59066\" y=\"82.489543\" style=\"fill: #1f77b4; stroke: #1f77b4\"/>\n     <use xlink:href=\"#mc81277f250\" x=\"114.708407\" y=\"83.667654\" style=\"fill: #1f77b4; stroke: #1f77b4\"/>\n     <use xlink:href=\"#mc81277f250\" x=\"76.549733\" y=\"67.161518\" style=\"fill: #1f77b4; stroke: #1f77b4\"/>\n     <use xlink:href=\"#mc81277f250\" x=\"113.134851\" y=\"77.753785\" style=\"fill: #1f77b4; stroke: #1f77b4\"/>\n     <use xlink:href=\"#mc81277f250\" x=\"138.937706\" y=\"90.183937\" style=\"fill: #1f77b4; stroke: #1f77b4\"/>\n     <use xlink:href=\"#mc81277f250\" x=\"128.795247\" y=\"82.477527\" style=\"fill: #1f77b4; stroke: #1f77b4\"/>\n     <use xlink:href=\"#mc81277f250\" x=\"90.643796\" y=\"67.102444\" style=\"fill: #1f77b4; stroke: #1f77b4\"/>\n     <use xlink:href=\"#mc81277f250\" x=\"151.80922\" y=\"86.257995\" style=\"fill: #1f77b4; stroke: #1f77b4\"/>\n     <use xlink:href=\"#mc81277f250\" x=\"99.709726\" y=\"57.165264\" style=\"fill: #1f77b4; stroke: #1f77b4\"/>\n     <use xlink:href=\"#mc81277f250\" x=\"179.683764\" y=\"120.081971\" style=\"fill: #1f77b4; stroke: #1f77b4\"/>\n     <use xlink:href=\"#mc81277f250\" x=\"160.361535\" y=\"99.69264\" style=\"fill: #1f77b4; stroke: #1f77b4\"/>\n     <use xlink:href=\"#mc81277f250\" x=\"133.805021\" y=\"96.303622\" style=\"fill: #1f77b4; stroke: #1f77b4\"/>\n     <use xlink:href=\"#mc81277f250\" x=\"129.912285\" y=\"76.256667\" style=\"fill: #1f77b4; stroke: #1f77b4\"/>\n     <use xlink:href=\"#mc81277f250\" x=\"155.514616\" y=\"98.500349\" style=\"fill: #1f77b4; stroke: #1f77b4\"/>\n     <use xlink:href=\"#mc81277f250\" x=\"138.909196\" y=\"96.843688\" style=\"fill: #1f77b4; stroke: #1f77b4\"/>\n     <use xlink:href=\"#mc81277f250\" x=\"95.542278\" y=\"66.082363\" style=\"fill: #1f77b4; stroke: #1f77b4\"/>\n     <use xlink:href=\"#mc81277f250\" x=\"186.062801\" y=\"120.590762\" style=\"fill: #1f77b4; stroke: #1f77b4\"/>\n     <use xlink:href=\"#mc81277f250\" x=\"191.543453\" y=\"134.593244\" style=\"fill: #1f77b4; stroke: #1f77b4\"/>\n    </g>\n   </g>\n   <g id=\"matplotlib.axis_1\">\n    <g id=\"xtick_1\">\n     <g id=\"line2d_1\">\n      <defs>\n       <path id=\"m89fa826c9e\" d=\"M 0 0 \nL 0 3.5 \n\" style=\"stroke: #000000; stroke-width: 0.8\"/>\n      </defs>\n      <g>\n       <use xlink:href=\"#m89fa826c9e\" x=\"73.086418\" y=\"149.535475\" style=\"stroke: #000000; stroke-width: 0.8\"/>\n      </g>\n     </g>\n     <g id=\"text_1\">\n      <!-- −2 -->\n      <g transform=\"translate(65.715325 164.133912)scale(0.1 -0.1)\">\n       <defs>\n        <path id=\"DejaVuSans-2212\" d=\"M 678 2272 \nL 4684 2272 \nL 4684 1741 \nL 678 1741 \nL 678 2272 \nz\n\" transform=\"scale(0.015625)\"/>\n        <path id=\"DejaVuSans-32\" d=\"M 1228 531 \nL 3431 531 \nL 3431 0 \nL 469 0 \nL 469 531 \nQ 828 903 1448 1529 \nQ 2069 2156 2228 2338 \nQ 2531 2678 2651 2914 \nQ 2772 3150 2772 3378 \nQ 2772 3750 2511 3984 \nQ 2250 4219 1831 4219 \nQ 1534 4219 1204 4116 \nQ 875 4013 500 3803 \nL 500 4441 \nQ 881 4594 1212 4672 \nQ 1544 4750 1819 4750 \nQ 2544 4750 2975 4387 \nQ 3406 4025 3406 3419 \nQ 3406 3131 3298 2873 \nQ 3191 2616 2906 2266 \nQ 2828 2175 2409 1742 \nQ 1991 1309 1228 531 \nz\n\" transform=\"scale(0.015625)\"/>\n       </defs>\n       <use xlink:href=\"#DejaVuSans-2212\"/>\n       <use xlink:href=\"#DejaVuSans-32\" x=\"83.789062\"/>\n      </g>\n     </g>\n    </g>\n    <g id=\"xtick_2\">\n     <g id=\"line2d_2\">\n      <g>\n       <use xlink:href=\"#m89fa826c9e\" x=\"126.015915\" y=\"149.535475\" style=\"stroke: #000000; stroke-width: 0.8\"/>\n      </g>\n     </g>\n     <g id=\"text_2\">\n      <!-- 0 -->\n      <g transform=\"translate(122.834665 164.133912)scale(0.1 -0.1)\">\n       <defs>\n        <path id=\"DejaVuSans-30\" d=\"M 2034 4250 \nQ 1547 4250 1301 3770 \nQ 1056 3291 1056 2328 \nQ 1056 1369 1301 889 \nQ 1547 409 2034 409 \nQ 2525 409 2770 889 \nQ 3016 1369 3016 2328 \nQ 3016 3291 2770 3770 \nQ 2525 4250 2034 4250 \nz\nM 2034 4750 \nQ 2819 4750 3233 4129 \nQ 3647 3509 3647 2328 \nQ 3647 1150 3233 529 \nQ 2819 -91 2034 -91 \nQ 1250 -91 836 529 \nQ 422 1150 422 2328 \nQ 422 3509 836 4129 \nQ 1250 4750 2034 4750 \nz\n\" transform=\"scale(0.015625)\"/>\n       </defs>\n       <use xlink:href=\"#DejaVuSans-30\"/>\n      </g>\n     </g>\n    </g>\n    <g id=\"xtick_3\">\n     <g id=\"line2d_3\">\n      <g>\n       <use xlink:href=\"#m89fa826c9e\" x=\"178.945411\" y=\"149.535475\" style=\"stroke: #000000; stroke-width: 0.8\"/>\n      </g>\n     </g>\n     <g id=\"text_3\">\n      <!-- 2 -->\n      <g transform=\"translate(175.764161 164.133912)scale(0.1 -0.1)\">\n       <use xlink:href=\"#DejaVuSans-32\"/>\n      </g>\n     </g>\n    </g>\n   </g>\n   <g id=\"matplotlib.axis_2\">\n    <g id=\"ytick_1\">\n     <g id=\"line2d_4\">\n      <defs>\n       <path id=\"m91fd8e6307\" d=\"M 0 0 \nL -3.5 0 \n\" style=\"stroke: #000000; stroke-width: 0.8\"/>\n      </defs>\n      <g>\n       <use xlink:href=\"#m91fd8e6307\" x=\"35.304688\" y=\"146.717524\" style=\"stroke: #000000; stroke-width: 0.8\"/>\n      </g>\n     </g>\n     <g id=\"text_4\">\n      <!-- −10 -->\n      <g transform=\"translate(7.2 150.516743)scale(0.1 -0.1)\">\n       <defs>\n        <path id=\"DejaVuSans-31\" d=\"M 794 531 \nL 1825 531 \nL 1825 4091 \nL 703 3866 \nL 703 4441 \nL 1819 4666 \nL 2450 4666 \nL 2450 531 \nL 3481 531 \nL 3481 0 \nL 794 0 \nL 794 531 \nz\n\" transform=\"scale(0.015625)\"/>\n       </defs>\n       <use xlink:href=\"#DejaVuSans-2212\"/>\n       <use xlink:href=\"#DejaVuSans-31\" x=\"83.789062\"/>\n       <use xlink:href=\"#DejaVuSans-30\" x=\"147.412109\"/>\n      </g>\n     </g>\n    </g>\n    <g id=\"ytick_2\">\n     <g id=\"line2d_5\">\n      <g>\n       <use xlink:href=\"#m91fd8e6307\" x=\"35.304688\" y=\"101.478089\" style=\"stroke: #000000; stroke-width: 0.8\"/>\n      </g>\n     </g>\n     <g id=\"text_5\">\n      <!-- 0 -->\n      <g transform=\"translate(21.942187 105.277308)scale(0.1 -0.1)\">\n       <use xlink:href=\"#DejaVuSans-30\"/>\n      </g>\n     </g>\n    </g>\n    <g id=\"ytick_3\">\n     <g id=\"line2d_6\">\n      <g>\n       <use xlink:href=\"#m91fd8e6307\" x=\"35.304688\" y=\"56.238654\" style=\"stroke: #000000; stroke-width: 0.8\"/>\n      </g>\n     </g>\n     <g id=\"text_6\">\n      <!-- 10 -->\n      <g transform=\"translate(15.579687 60.037873)scale(0.1 -0.1)\">\n       <use xlink:href=\"#DejaVuSans-31\"/>\n       <use xlink:href=\"#DejaVuSans-30\" x=\"63.623047\"/>\n      </g>\n     </g>\n    </g>\n    <g id=\"ytick_4\">\n     <g id=\"line2d_7\">\n      <g>\n       <use xlink:href=\"#m91fd8e6307\" x=\"35.304688\" y=\"10.999219\" style=\"stroke: #000000; stroke-width: 0.8\"/>\n      </g>\n     </g>\n     <g id=\"text_7\">\n      <!-- 20 -->\n      <g transform=\"translate(15.579687 14.798438)scale(0.1 -0.1)\">\n       <use xlink:href=\"#DejaVuSans-32\"/>\n       <use xlink:href=\"#DejaVuSans-30\" x=\"63.623047\"/>\n      </g>\n     </g>\n    </g>\n   </g>\n   <g id=\"patch_3\">\n    <path d=\"M 35.304688 149.535475 \nL 35.304688 10.935475 \n\" style=\"fill: none; stroke: #000000; stroke-width: 0.8; stroke-linejoin: miter; stroke-linecap: square\"/>\n   </g>\n   <g id=\"patch_4\">\n    <path d=\"M 230.604688 149.535475 \nL 230.604688 10.935475 \n\" style=\"fill: none; stroke: #000000; stroke-width: 0.8; stroke-linejoin: miter; stroke-linecap: square\"/>\n   </g>\n   <g id=\"patch_5\">\n    <path d=\"M 35.304688 149.535475 \nL 230.604688 149.535475 \n\" style=\"fill: none; stroke: #000000; stroke-width: 0.8; stroke-linejoin: miter; stroke-linecap: square\"/>\n   </g>\n   <g id=\"patch_6\">\n    <path d=\"M 35.304688 10.935475 \nL 230.604688 10.935475 \n\" style=\"fill: none; stroke: #000000; stroke-width: 0.8; stroke-linejoin: miter; stroke-linecap: square\"/>\n   </g>\n  </g>\n </g>\n <defs>\n  <clipPath id=\"p832d5c68a4\">\n   <rect x=\"35.304688\" y=\"10.935475\" width=\"195.3\" height=\"138.6\"/>\n  </clipPath>\n </defs>\n</svg>\n",
      "text/plain": [
       "<Figure size 350x250 with 1 Axes>"
      ]
     },
     "metadata": {},
     "output_type": "display_data"
    }
   ],
   "source": [
    "d2l.set_figsize()\n",
    "d2l.plt.scatter(features[:, (1)].detach().numpy(), labels.detach().numpy(), 1)"
   ]
  },
  {
   "cell_type": "code",
   "execution_count": 5,
   "id": "cf50c9da",
   "metadata": {},
   "outputs": [
    {
     "name": "stdout",
     "output_type": "stream",
     "text": [
      "tensor([[ 0.2120,  0.6030],\n",
      "        [-0.1603, -1.2692],\n",
      "        [-1.0519,  3.5502],\n",
      "        [-0.8437,  0.1429],\n",
      "        [ 1.3761, -0.9203],\n",
      "        [-0.4331, -0.1572],\n",
      "        [ 0.2452,  0.9380],\n",
      "        [ 0.5688,  2.7663],\n",
      "        [ 0.7159, -0.6262],\n",
      "        [-0.4932, -1.0097]]) \n",
      " tensor([[ 2.5752],\n",
      "        [ 8.1910],\n",
      "        [-9.9519],\n",
      "        [ 2.0294],\n",
      "        [10.0910],\n",
      "        [ 3.8620],\n",
      "        [ 1.5032],\n",
      "        [-4.0648],\n",
      "        [ 7.7683],\n",
      "        [ 6.6307]])\n"
     ]
    }
   ],
   "source": [
    "def data_iter(batch_size, features, labels):\n",
    "    num_examples = len(features)\n",
    "    indices = list(range(num_examples))\n",
    "    # 这些样本是随机读取的，没有特定的顺序\n",
    "    random.shuffle(indices)\n",
    "    for i in range(0, num_examples, batch_size):\n",
    "        batch_indices = torch.tensor(\n",
    "            indices[i: min(i + batch_size, num_examples)])\n",
    "        yield features[batch_indices], labels[batch_indices]\n",
    "        \n",
    "batch_size = 10\n",
    "\n",
    "for X, y in data_iter(batch_size, features, labels):\n",
    "    print(X, '\\n', y)\n",
    "    break"
   ]
  },
  {
   "cell_type": "code",
   "execution_count": 15,
   "id": "491b1e9d",
   "metadata": {},
   "outputs": [],
   "source": [
    "w = torch.normal(0, 0.01, size=(2,1), requires_grad=True)\n",
    "b = torch.zeros(1, requires_grad=True)\n"
   ]
  },
  {
   "cell_type": "code",
   "execution_count": 16,
   "id": "1bbba8d7",
   "metadata": {},
   "outputs": [],
   "source": [
    "def linreg(X, w, b):  #@save\n",
    "    \"\"\"线性回归模型\"\"\"\n",
    "    return torch.matmul(X, w) + b"
   ]
  },
  {
   "cell_type": "code",
   "execution_count": 17,
   "id": "7ef46d22",
   "metadata": {},
   "outputs": [],
   "source": [
    "def squared_loss(y_hat, y):  #@save\n",
    "    \"\"\"均方损失\"\"\"\n",
    "    return (y_hat - y.reshape(y_hat.shape)) ** 2 / 2"
   ]
  },
  {
   "cell_type": "code",
   "execution_count": 18,
   "id": "a27e1ae2",
   "metadata": {},
   "outputs": [],
   "source": [
    "def sgd(params, lr, batch_size):  #@save\n",
    "    \"\"\"小批量随机梯度下降\"\"\"\n",
    "    with torch.no_grad():\n",
    "        for param in params:\n",
    "            param -= lr * param.grad / batch_size\n",
    "            param.grad.zero_()"
   ]
  },
  {
   "cell_type": "code",
   "execution_count": 19,
   "id": "baa6e1e9",
   "metadata": {},
   "outputs": [
    {
     "name": "stdout",
     "output_type": "stream",
     "text": [
      "epoch 1, loss 0.037038\n",
      "epoch 2, loss 0.000146\n",
      "epoch 3, loss 0.000052\n"
     ]
    }
   ],
   "source": [
    "lr = 0.03\n",
    "num_epochs = 3\n",
    "net = linreg\n",
    "loss = squared_loss\n",
    "\n",
    "for epoch in range(num_epochs):\n",
    "    for X, y in data_iter(batch_size, features, labels):\n",
    "        l = loss(net(X, w, b), y)  # X和y的小批量损失\n",
    "        # 因为l形状是(batch_size,1)，而不是一个标量。l中的所有元素被加到一起，\n",
    "        # 并以此计算关于[w,b]的梯度\n",
    "        l.sum().backward()\n",
    "        sgd([w, b], lr, batch_size)  # 使用参数的梯度更新参数\n",
    "    with torch.no_grad():\n",
    "        train_l = loss(net(features, w, b), labels)\n",
    "        print(f'epoch {epoch + 1}, loss {float(train_l.mean()):f}')"
   ]
  },
  {
   "cell_type": "code",
   "execution_count": 20,
   "id": "679a58c2",
   "metadata": {},
   "outputs": [
    {
     "name": "stdout",
     "output_type": "stream",
     "text": [
      "w的估计误差: tensor([ 0.0006, -0.0011], grad_fn=<SubBackward0>)\n",
      "b的估计误差: tensor([0.0009], grad_fn=<RsubBackward1>)\n"
     ]
    }
   ],
   "source": [
    "print(f'w的估计误差: {true_w - w.reshape(true_w.shape)}')\n",
    "print(f'b的估计误差: {true_b - b}')"
   ]
  },
  {
   "cell_type": "markdown",
   "id": "2a5b7fad",
   "metadata": {},
   "source": [
    "# 第五章 CNN"
   ]
  },
  {
   "cell_type": "code",
   "execution_count": 4,
   "id": "4997ed95",
   "metadata": {},
   "outputs": [],
   "source": [
    "import torch\n",
    "from torch import nn\n",
    "\n",
    "def corr2d(X, K):\n",
    "    h, w = K.shape\n",
    "    Y = torch.zeros((X.shape[0] - h + 1, X.shape[1] - w + 1))\n",
    "    for i in range(Y.shape[0]):\n",
    "        for j in range(Y.shape[1]):\n",
    "            Y[i, j] = (X[i: i + h, j: j + w] * K).sum()\n",
    "    return Y"
   ]
  },
  {
   "cell_type": "code",
   "execution_count": 5,
   "id": "2714b6c4",
   "metadata": {},
   "outputs": [
    {
     "name": "stdout",
     "output_type": "stream",
     "text": [
      "tensor([[0, 1, 2],\n",
      "        [3, 4, 5],\n",
      "        [6, 7, 8]])\n",
      "tensor([[0, 1],\n",
      "        [2, 3]])\n"
     ]
    },
    {
     "data": {
      "text/plain": [
       "tensor([[19., 25.],\n",
       "        [37., 43.]])"
      ]
     },
     "execution_count": 5,
     "metadata": {},
     "output_type": "execute_result"
    }
   ],
   "source": [
    "x = torch.tensor([[0,1,2],[3,4,5],[6,7,8]])\n",
    "k = torch.tensor([[0,1],[2,3]])\n",
    "print(x)\n",
    "print(k)\n",
    "corr2d(x,k)"
   ]
  },
  {
   "attachments": {},
   "cell_type": "markdown",
   "id": "96439e61",
   "metadata": {},
   "source": [
    "# 第六章 RNN--循环神经网络"
   ]
  },
  {
   "cell_type": "code",
   "execution_count": null,
   "id": "a9c1188c",
   "metadata": {},
   "outputs": [],
   "source": []
  }
 ],
 "metadata": {
  "kernelspec": {
   "display_name": "Python 3 (ipykernel)",
   "language": "python",
   "name": "python3"
  },
  "language_info": {
   "codemirror_mode": {
    "name": "ipython",
    "version": 3
   },
   "file_extension": ".py",
   "mimetype": "text/x-python",
   "name": "python",
   "nbconvert_exporter": "python",
   "pygments_lexer": "ipython3",
   "version": "3.8.13"
  }
 },
 "nbformat": 4,
 "nbformat_minor": 5
}
